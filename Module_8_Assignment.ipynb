{
  "nbformat": 4,
  "nbformat_minor": 0,
  "metadata": {
    "colab": {
      "provenance": []
    },
    "kernelspec": {
      "name": "python3",
      "display_name": "Python 3"
    },
    "language_info": {
      "name": "python"
    }
  },
  "cells": [
    {
      "cell_type": "markdown",
      "source": [
        "Data Toolkit\n"
      ],
      "metadata": {
        "id": "LZXZinqvPJXJ"
      }
    },
    {
      "cell_type": "markdown",
      "source": [
        "1. What is NumPy, and why is it widely used in Python?\n"
      ],
      "metadata": {
        "id": "k1GQfDM9PLK5"
      }
    },
    {
      "cell_type": "markdown",
      "source": [
        "**NumPy** (Numerical Python) is a powerful library in Python that is widely used for numerical computing and scientific computing tasks. It provides efficient support for arrays, matrices, and high-level mathematical functions to operate on these data structures.\n",
        "\n",
        "Here are some key reasons why NumPy is widely used in Python:\n",
        "\n",
        "### 1. **Efficient Array Operations**\n",
        "   - NumPy introduces the `ndarray` (N-dimensional array), which is a highly efficient and powerful data structure for storing large datasets. The `ndarray` allows you to store and manipulate large arrays of homogeneous data (i.e., arrays with the same data type) in a memory-efficient way.\n",
        "   - NumPy is optimized for performance, and its array operations are implemented in C, making it much faster than regular Python lists for numerical operations.\n",
        "\n",
        "### 2. **Vectorization and Broadcasting**\n",
        "   - **Vectorization**: NumPy allows you to perform element-wise operations (such as addition, subtraction, multiplication) on entire arrays without writing explicit loops, improving both code readability and execution speed.\n",
        "   - **Broadcasting**: NumPy allows arrays of different shapes to be used in arithmetic operations, automatically aligning them in a way that avoids unnecessary data replication. This makes it easier to perform operations on arrays of different shapes without writing complex code.\n",
        "\n",
        "### 3. **Mathematical Functions**\n",
        "   - NumPy provides a large collection of mathematical functions (like trigonometric, exponential, logarithmic, and linear algebra operations) that work directly on arrays. These functions are highly optimized for performance and can be applied to entire arrays at once, avoiding the need for looping in Python.\n",
        "\n",
        "### 4. **Integration with Other Libraries**\n",
        "   - NumPy serves as the foundation for many other scientific computing libraries in Python, such as **Pandas** (for data manipulation), **SciPy** (for scientific computing), **Matplotlib** (for plotting), and **TensorFlow** or **PyTorch** (for machine learning). The ability of these libraries to handle NumPy arrays makes them highly interoperable and effective for building complex data workflows.\n",
        "\n",
        "### 5. **Memory Efficiency**\n",
        "   - NumPy arrays are more compact and require less memory than traditional Python lists. This is because NumPy arrays store data in contiguous blocks of memory, while Python lists are pointers to objects, which adds overhead.\n",
        "\n",
        "### 6. **Interoperability with C/C++ and Fortran**\n",
        "   - NumPy provides a mechanism for working with C, C++, and Fortran code, allowing you to integrate high-performance code with Python. This feature is useful when implementing algorithms that require speed and efficiency that Python alone may not provide.\n",
        "\n",
        "### 7. **Random Number Generation**\n",
        "   - NumPy has a comprehensive suite of functions for generating random numbers, which is especially useful for simulations, statistical modeling, and machine learning applications.\n",
        "\n",
        "### 8. **Multidimensional Arrays**\n",
        "   - NumPy supports multidimensional arrays (matrices and higher-dimensional arrays), which are essential for working with more complex data structures, such as images, videos, and scientific data, often encountered in machine learning, computer vision, and data science.\n",
        "\n",
        "### 9. **Cross-platform Compatibility**\n",
        "   - NumPy is cross-platform and works well on all major operating systems (Windows, Linux, macOS). It has an active community that maintains and improves it, ensuring its continued performance and updates.\n",
        "\n",
        "### Example Use Case:\n",
        "Here’s a basic example of how NumPy is used:"
      ],
      "metadata": {
        "id": "BSwMxzzuPid9"
      }
    },
    {
      "cell_type": "code",
      "source": [
        "import numpy as np\n",
        "\n",
        "# Creating a NumPy array\n",
        "arr = np.array([1, 2, 3, 4, 5])\n",
        "\n",
        "# Element-wise operation\n",
        "arr_squared = arr ** 2\n",
        "\n",
        "print(arr_squared)\n"
      ],
      "metadata": {
        "colab": {
          "base_uri": "https://localhost:8080/"
        },
        "id": "MXHIJTzPPpSR",
        "outputId": "92bba3d9-c644-4ce3-bb50-1d13d91464e6"
      },
      "execution_count": null,
      "outputs": [
        {
          "output_type": "stream",
          "name": "stdout",
          "text": [
            "[ 1  4  9 16 25]\n"
          ]
        }
      ]
    },
    {
      "cell_type": "markdown",
      "source": [
        "2. How does broadcasting work in NumPy?\n"
      ],
      "metadata": {
        "id": "Y05iM0IKP3RP"
      }
    },
    {
      "cell_type": "markdown",
      "source": [
        "**Broadcasting** in NumPy refers to the ability of NumPy to perform element-wise operations on arrays of different shapes, without needing to explicitly replicate data. This is one of the key features of NumPy that makes it more efficient than using standard Python lists.\n",
        "\n",
        "### How Broadcasting Works in NumPy\n",
        "\n",
        "When you perform operations between arrays with different shapes, NumPy applies **broadcasting** rules to align the shapes of these arrays so they can be combined element-wise. Broadcasting works by \"stretching\" the smaller array across the larger array so that they have the same shape. Importantly, broadcasting does not require copying data; it happens in a memory-efficient way.\n",
        "\n",
        "### Broadcasting Rules\n",
        "\n",
        "For broadcasting to occur, the following rules must be satisfied:\n",
        "\n",
        "1. **Align the dimensions**: If the arrays have a different number of dimensions (e.g., one is a 1D array and the other is a 2D array), NumPy will pad the smaller array's shape with ones on the left side to make the shapes of the arrays compatible.\n",
        "\n",
        "2. **Match dimensions or ones**: After padding, the dimensions must either match, or one of them must be 1. If a dimension of the smaller array is 1, that dimension is stretched (or broadcast) across the larger array.\n",
        "\n",
        "3. **Shape compatibility**: After aligning the arrays, their dimensions must be either the same or one of them must be 1. If the shapes are incompatible, NumPy will raise an error.\n",
        "\n"
      ],
      "metadata": {
        "id": "9GYgkEr5P8BB"
      }
    },
    {
      "cell_type": "markdown",
      "source": [
        "3. What is a Pandas DataFrame?\n"
      ],
      "metadata": {
        "id": "VVGYK6KCQWBN"
      }
    },
    {
      "cell_type": "markdown",
      "source": [
        "A Pandas DataFrame is one of the most commonly used data structures in the Pandas library, which is a powerful tool in Python for data manipulation and analysis. A DataFrame is a 2-dimensional, labeled data structure that can store data of different types (e.g., integers, floats, strings) in columns. It is similar to a table or a spreadsheet, where rows represent records and columns represent variables (or attributes) of the data."
      ],
      "metadata": {
        "id": "6hJNr0JQQhUv"
      }
    },
    {
      "cell_type": "markdown",
      "source": [
        "4. Explain the use of the groupby() method in Pandas.\n"
      ],
      "metadata": {
        "id": "PU7xKfvJQiWU"
      }
    },
    {
      "cell_type": "markdown",
      "source": [
        "The `groupby()` method in Pandas is a powerful tool for grouping and performing operations on subsets of a DataFrame based on certain criteria. It allows you to split the data into groups, apply functions to these groups, and then combine the results back into a new DataFrame. This operation is very useful for data aggregation, transformation, and analysis, especially when working with large datasets that need to be summarized or grouped in some way.\n",
        "\n",
        "### The `groupby()` Process in Pandas\n",
        "\n",
        "The `groupby()` method works by following these three basic steps:\n",
        "\n",
        "1. **Splitting**: The data is divided into groups based on some criteria (usually column values).\n",
        "2. **Applying**: A function is applied to each group, which could be an aggregation (e.g., sum, mean), transformation (e.g., standardization), or filtering.\n",
        "3. **Combining**: The results of the function applied to each group are combined back into a DataFrame or Series.\n",
        "\n",
        "This process is often referred to as **split-apply-combine**.\n",
        "\n",
        "\n",
        "\n",
        "### Basic Usage of `groupby()`\n",
        "\n",
        "#### Example 1: Grouping by a Single Column\n",
        "Let's consider a simple example of a DataFrame containing data about employees.\n",
        "\n"
      ],
      "metadata": {
        "id": "lwFaao6LRB1I"
      }
    },
    {
      "cell_type": "code",
      "source": [
        "import pandas as pd\n",
        "\n",
        "data = {\n",
        "    'Department': ['HR', 'Finance', 'HR', 'Finance', 'IT', 'IT', 'HR'],\n",
        "    'Employee': ['Alice', 'Bob', 'Charlie', 'David', 'Eve', 'Frank', 'Grace'],\n",
        "    'Salary': [50000, 60000, 55000, 70000, 75000, 80000, 52000]\n",
        "}\n",
        "\n",
        "df = pd.DataFrame(data)\n",
        "\n",
        "# Group by 'Department' and calculate the average salary in each department\n",
        "grouped = df.groupby('Department')['Salary'].mean()\n",
        "\n",
        "print(grouped)\n"
      ],
      "metadata": {
        "colab": {
          "base_uri": "https://localhost:8080/"
        },
        "id": "zYeAs-qmRygZ",
        "outputId": "c8f44c68-9b4b-4806-d1ab-c6ca103252e1"
      },
      "execution_count": null,
      "outputs": [
        {
          "output_type": "stream",
          "name": "stdout",
          "text": [
            "Department\n",
            "Finance    65000.000000\n",
            "HR         52333.333333\n",
            "IT         77500.000000\n",
            "Name: Salary, dtype: float64\n"
          ]
        }
      ]
    },
    {
      "cell_type": "markdown",
      "source": [
        "Example 2: Grouping by Multiple Columns\n",
        "\n",
        "You can also group by multiple columns. For instance, grouping by Department and Salary:\n",
        "\n"
      ],
      "metadata": {
        "id": "8lNW_ZEoRQ3g"
      }
    },
    {
      "cell_type": "code",
      "source": [
        "grouped = df.groupby(['Department', 'Salary']).size()\n",
        "\n",
        "print(grouped)\n"
      ],
      "metadata": {
        "colab": {
          "base_uri": "https://localhost:8080/"
        },
        "id": "kZe7CNfgSHFe",
        "outputId": "05f58926-ab20-46f9-bcb4-d8c3689cff4d"
      },
      "execution_count": null,
      "outputs": [
        {
          "output_type": "stream",
          "name": "stdout",
          "text": [
            "Department  Salary\n",
            "Finance     60000     1\n",
            "            70000     1\n",
            "HR          50000     1\n",
            "            52000     1\n",
            "            55000     1\n",
            "IT          75000     1\n",
            "            80000     1\n",
            "dtype: int64\n"
          ]
        }
      ]
    },
    {
      "cell_type": "markdown",
      "source": [
        "Example 3: Aggregating Data with Multiple Functions\n",
        "\n",
        "You can also apply multiple aggregation functions to the grouped data. For example, calculating both the mean and the sum of the salary for each department:"
      ],
      "metadata": {
        "id": "yLp3PQTTSLT-"
      }
    },
    {
      "cell_type": "code",
      "source": [
        "grouped = df.groupby('Department')['Salary'].agg(['mean', 'sum'])\n",
        "\n",
        "print(grouped)\n"
      ],
      "metadata": {
        "colab": {
          "base_uri": "https://localhost:8080/"
        },
        "id": "kinYjU7pSQvU",
        "outputId": "4d8435fa-778c-4e58-cb96-e7a7c6c635aa"
      },
      "execution_count": null,
      "outputs": [
        {
          "output_type": "stream",
          "name": "stdout",
          "text": [
            "                    mean     sum\n",
            "Department                      \n",
            "Finance     65000.000000  130000\n",
            "HR          52333.333333  157000\n",
            "IT          77500.000000  155000\n"
          ]
        }
      ]
    },
    {
      "cell_type": "markdown",
      "source": [
        "Example 4: Filtering Groups\n",
        "\n",
        "\n",
        "You can also filter groups based on certain criteria. For instance, finding departments where the average salary is greater than 60000:\n",
        "\n",
        "\n"
      ],
      "metadata": {
        "id": "oBSRysxXSY1W"
      }
    },
    {
      "cell_type": "markdown",
      "source": [],
      "metadata": {
        "id": "ti0NxdR6ScL-"
      }
    },
    {
      "cell_type": "code",
      "source": [
        "grouped = df.groupby('Department').filter(lambda x: x['Salary'].mean() > 60000)\n",
        "\n",
        "print(grouped)\n"
      ],
      "metadata": {
        "colab": {
          "base_uri": "https://localhost:8080/"
        },
        "id": "eKdFXRvdSfso",
        "outputId": "a8043396-275d-4eaa-b83c-5232df27367a"
      },
      "execution_count": null,
      "outputs": [
        {
          "output_type": "stream",
          "name": "stdout",
          "text": [
            "  Department Employee  Salary\n",
            "1    Finance      Bob   60000\n",
            "3    Finance    David   70000\n",
            "4         IT      Eve   75000\n",
            "5         IT    Frank   80000\n"
          ]
        }
      ]
    },
    {
      "cell_type": "markdown",
      "source": [
        "\n",
        "### Use Cases for `groupby()`\n",
        "\n",
        "1. **Aggregation**: The most common use of `groupby()` is to perform aggregation operations such as calculating the mean, sum, min, max, or count for each group.\n",
        "   - Example: Average sales by store, total revenue by product category.\n",
        "\n",
        "2. **Transformation**: You can apply transformations to each group, such as normalizing data within each group or filling missing values based on group statistics.\n",
        "   - Example: Normalize the salary within each department to have a mean of 0 and standard deviation of 1.\n",
        "\n",
        "3. **Filtering**: You can filter out groups based on certain conditions, such as keeping only the groups where the mean salary exceeds a certain threshold.\n",
        "   - Example: Filter out departments with fewer than 5 employees.\n",
        "\n",
        "4. **Applying Custom Functions**: You can apply custom functions to each group for more complex operations.\n",
        "   - Example: Grouping data by date and applying a custom function to calculate rolling averages.\n",
        "\n",
        "\n"
      ],
      "metadata": {
        "id": "dYCus7LOSnUV"
      }
    },
    {
      "cell_type": "markdown",
      "source": [
        "5. Why is Seaborn preferred for statistical visualizations?\n"
      ],
      "metadata": {
        "id": "e6p-NwHASx2b"
      }
    },
    {
      "cell_type": "markdown",
      "source": [
        "**Seaborn** is preferred for statistical visualizations in Python due to its ability to make complex data visualizations simple, aesthetically pleasing, and highly informative. It is a high-level interface built on top of **Matplotlib**, specifically designed for statistical plotting and data analysis. Below are the main reasons why Seaborn is widely preferred:\n",
        "\n",
        "### 1. **Ease of Use**\n",
        "   Seaborn provides a more user-friendly API for creating complex statistical plots compared to **Matplotlib**. It allows users to create plots with a single line of code, reducing the need for verbose configuration. For example, to create a violin plot, you simply use:\n",
        "   ```python\n",
        "   sns.violinplot(x=\"category\", y=\"value\", data=df)\n",
        "   ```\n",
        "   This is much simpler than manually configuring each plot element in Matplotlib.\n",
        "\n",
        "### 2. **Integration with Pandas**\n",
        "   Seaborn works seamlessly with **Pandas DataFrames**, which are commonly used for data manipulation. You can directly pass DataFrame columns to Seaborn’s plotting functions without needing to extract data separately. This is convenient because it avoids the need for explicit data preparation and enables more straightforward exploration of your dataset.\n",
        "   ```python\n",
        "   sns.boxplot(x='category', y='value', data=df)\n",
        "   ```\n",
        "\n",
        "### 3. **Built-in Statistical Functions**\n",
        "   Seaborn is designed for statistical visualizations, meaning it includes built-in functionality for common statistical operations, such as:\n",
        "   - **Regression analysis** (e.g., `sns.regplot()` automatically fits a regression line)\n",
        "   - **Distribution fitting** (e.g., `sns.distplot()` for histograms and density plots)\n",
        "   - **Confidence intervals** (visualized alongside regression lines)\n",
        "   These functions allow you to easily visualize trends, distributions, and relationships in your data with minimal effort.\n",
        "\n",
        "### 4. **Aesthetic and Consistent Plots**\n",
        "   Seaborn comes with built-in themes and color palettes that automatically make your plots visually appealing and consistent. These default styles make Seaborn plots stand out and are easier to interpret compared to basic Matplotlib plots. You can also easily customize styles and color schemes to match your preferences.\n",
        "   ```python\n",
        "   sns.set(style=\"whitegrid\")\n",
        "   sns.boxplot(x='category', y='value', data=df)\n",
        "   ```\n",
        "\n",
        "### 5. **Support for Complex Plots**\n",
        "   Seaborn supports a wide range of complex statistical visualizations with minimal code:\n",
        "   - **Pair plots** (`sns.pairplot()`): Automatically generates a grid of scatter plots to visualize relationships between multiple variables.\n",
        "   - **Heatmaps** (`sns.heatmap()`): Ideal for visualizing correlation matrices or other matrix-like data.\n",
        "   - **Facet grids** (`sns.FacetGrid()`): Allows for easy faceting of plots based on categorical variables, creating multiple subplots based on different subsets of the data.\n",
        "\n",
        "   Example of a pair plot:\n",
        "   ```python\n",
        "   sns.pairplot(df)\n",
        "   ```\n",
        "\n",
        "### 6. **Automatic Statistical Calculations**\n",
        "   Seaborn can automatically calculate and display statistical measures directly on plots. For example, when plotting a regression line with `sns.regplot()`, Seaborn will automatically compute and display the best-fit line and its confidence intervals. This functionality is particularly useful for quickly interpreting the relationships in the data without manually performing calculations.\n",
        "\n",
        "### 7. **Better Handling of Categorical Data**\n",
        "   Seaborn is particularly useful when working with **categorical data**. It provides specialized plots such as **box plots**, **violin plots**, **count plots**, and **bar plots** for visualizing distributions of data across different categories. These types of plots help in exploring how numerical data is distributed across different groups.\n",
        "\n",
        "   Example of a count plot:\n",
        "   ```python\n",
        "   sns.countplot(x=\"category\", data=df)\n",
        "   ```\n",
        "\n",
        "### 8. **Statistical Aggregation and Plotting**\n",
        "   Seaborn can automatically compute statistical aggregates, such as the mean or median, when visualizing data. For example, `sns.barplot()` computes the mean of the data for each category and plots it, which is very useful for summarizing datasets.\n",
        "\n",
        "### 9. **Flexibility and Extensibility**\n",
        "   While Seaborn is a high-level API, it is built on top of Matplotlib, which means you can still access Matplotlib's full functionality for further customization. This provides a balance between ease of use and flexibility, allowing you to create both simple and highly customized visualizations.\n",
        "\n",
        "### 10. **Designed for Statistical Insight**\n",
        "   Seaborn is specifically designed for **statistical data exploration**. Whether you're analyzing distributions, relationships, or trends, Seaborn provides a wide array of functions that directly help in revealing statistical insights. Its focus on statistical plots, like regression lines, confidence intervals, and probability distributions, makes it a powerful tool for data analysis.\n",
        "\n"
      ],
      "metadata": {
        "id": "zFkQrpBbsqno"
      }
    },
    {
      "cell_type": "markdown",
      "source": [
        "6. What are the differences between NumPy arrays and Python lists?\n"
      ],
      "metadata": {
        "id": "aQDKjwL9sxO0"
      }
    },
    {
      "cell_type": "markdown",
      "source": [
        "Here’s a detailed comparison of **NumPy arrays** and **Python lists** based on various key factors:\n",
        "\n",
        "### 1. **Homogeneity vs Heterogeneity**\n",
        "   - **NumPy Arrays**: NumPy arrays are **homogeneous**, meaning all elements must be of the same data type (e.g., all integers, all floats).\n",
        "     - This allows NumPy to optimize memory and perform faster operations.\n",
        "   - **Python Lists**: Python lists are **heterogeneous**, meaning elements can be of different types (e.g., a mix of integers, floats, strings).\n",
        "     - This gives flexibility but makes operations less efficient compared to NumPy arrays.\n",
        "\n",
        "   **Example**:\n",
        "   ```python\n",
        "   import numpy as np\n",
        "   np_array = np.array([1, 2, 3])  # Homogeneous (all integers)\n",
        "   py_list = [1, 'two', 3.0]  # Heterogeneous (mixed types)\n",
        "   ```\n",
        "\n",
        "### 2. **Memory Efficiency**\n",
        "   - **NumPy Arrays**: NumPy arrays are **more memory efficient** because they store data in contiguous memory blocks and use fixed memory sizes for each element (e.g., 4 bytes for an integer).\n",
        "   - **Python Lists**: Python lists store references to objects, which means each element is a pointer to an object in memory, adding overhead. The memory usage is higher because the elements can be of different types and sizes.\n",
        "\n",
        "### 3. **Performance**\n",
        "   - **NumPy Arrays**: NumPy arrays are **faster** for numerical computations because they are optimized for vectorized operations and use highly efficient C and Fortran libraries under the hood. Element-wise operations can be performed quickly without the need for explicit loops.\n",
        "   - **Python Lists**: Python lists are **slower** for numerical tasks because operations are performed in Python loops, which are not optimized for performance as NumPy’s vectorized operations.\n",
        "\n",
        "   **Example**:\n",
        "   ```python\n",
        "   import time\n",
        "\n",
        "   # NumPy array\n",
        "   np_array = np.array([1, 2, 3, 4, 5])\n",
        "   start = time.time()\n",
        "   np_result = np_array * 2  # Vectorized operation\n",
        "   print(\"NumPy time:\", time.time() - start)\n",
        "\n",
        "   # Python list\n",
        "   py_list = [1, 2, 3, 4, 5]\n",
        "   start = time.time()\n",
        "   py_result = [x * 2 for x in py_list]  # List comprehension\n",
        "   print(\"Python list time:\", time.time() - start)\n",
        "   ```\n",
        "\n",
        "### 4. **Vectorized Operations**\n",
        "   - **NumPy Arrays**: NumPy supports **vectorized operations**, meaning you can perform operations on entire arrays at once without explicit loops, making the code cleaner and faster.\n",
        "   - **Python Lists**: Python lists do not support vectorized operations natively. To perform element-wise operations, you need to use loops or list comprehensions, which are slower.\n",
        "\n",
        "   **Example**:\n",
        "   ```python\n",
        "   # NumPy example\n",
        "   np_array = np.array([1, 2, 3])\n",
        "   np_result = np_array + 5  # Adds 5 to each element of the array\n",
        "\n",
        "   # Python list example\n",
        "   py_list = [1, 2, 3]\n",
        "   py_result = [x + 5 for x in py_list]  # Adds 5 to each element\n",
        "   ```\n",
        "\n",
        "### 5. **Multidimensional Support**\n",
        "   - **NumPy Arrays**: NumPy arrays support **multidimensional arrays** (2D, 3D, etc.), allowing you to work with matrices, images, and more complex data structures. You can perform operations across all dimensions of the array.\n",
        "   - **Python Lists**: Python lists are **1-dimensional** by default, but you can create nested lists to simulate multidimensional arrays. However, they are inefficient and not optimized for mathematical operations.\n",
        "\n",
        "   **Example**:\n",
        "   ```python\n",
        "   # NumPy 2D array\n",
        "   np_array_2d = np.array([[1, 2], [3, 4]])\n",
        "\n",
        "   # Python list as 2D array (nested list)\n",
        "   py_list_2d = [[1, 2], [3, 4]]\n",
        "   ```\n",
        "\n",
        "### 6. **Reshaping and Broadcasting**\n",
        "   - **NumPy Arrays**: NumPy arrays support **reshaping** and **broadcasting**:\n",
        "     - **Reshaping**: You can change the shape of a NumPy array (e.g., from a 1D array to a 2D matrix).\n",
        "     - **Broadcasting**: NumPy can perform operations on arrays of different shapes, automatically adjusting the shapes to match in a memory-efficient way.\n",
        "   - **Python Lists**: Python lists do not have built-in support for reshaping or broadcasting. To work with multidimensional data, you must manually manipulate the nested lists.\n",
        "\n",
        "### 7. **Mathematical Functions**\n",
        "   - **NumPy Arrays**: NumPy provides a large set of **mathematical functions** for element-wise operations, such as `np.add()`, `np.subtract()`, `np.mean()`, `np.dot()`, etc. It also includes advanced statistical, algebraic, and Fourier functions.\n",
        "   - **Python Lists**: Python lists do not have built-in functions for mathematical operations. To perform computations like sums or averages, you need to write explicit loops or use Python's built-in `sum()` and `len()` functions.\n",
        "\n",
        "   **Example**:\n",
        "   ```python\n",
        "   # NumPy function\n",
        "   np_array = np.array([1, 2, 3])\n",
        "   np_mean = np.mean(np_array)  # Computes the mean of the array\n",
        "\n",
        "   # Python list function\n",
        "   py_list = [1, 2, 3]\n",
        "   py_mean = sum(py_list) / len(py_list)  # Computes the mean using built-in functions\n",
        "   ```\n",
        "\n",
        "### 8. **Handling Missing Data**\n",
        "   - **NumPy Arrays**: NumPy has built-in support for **missing values** using `np.nan` (Not a Number). NumPy operations can handle these missing values gracefully by ignoring them during calculations.\n",
        "   - **Python Lists**: Python lists don’t have a standardized way of handling missing data. You’d typically use `None` to represent missing values, but you'd need additional checks to handle `None` correctly.\n",
        "\n",
        "### 9. **Flexibility**\n",
        "   - **NumPy Arrays**: While NumPy arrays are efficient for numerical computations, they are **less flexible** than Python lists. For instance, all elements must be of the same type, and reshaping or modifying the array requires specific methods.\n",
        "   - **Python Lists**: Python lists are **more flexible** in that they can store elements of different types and sizes. You can append, remove, or modify elements of a list easily.\n",
        "\n",
        "### 10. **Functionality and Methods**\n",
        "   - **NumPy Arrays**: NumPy arrays come with a wide variety of **built-in mathematical and statistical functions**. You can use `np.sum()`, `np.mean()`, `np.std()`, `np.dot()`, and more, making it ideal for scientific computing.\n",
        "   - **Python Lists**: Python lists have basic methods like `append()`, `extend()`, `remove()`, and `pop()`, but they lack specialized functions for numerical analysis.\n",
        "\n",
        "---\n",
        "\n",
        "### Summary of Differences\n",
        "\n",
        "| Feature                      | **NumPy Arrays**                       | **Python Lists**                    |\n",
        "|------------------------------|----------------------------------------|-------------------------------------|\n",
        "| **Data Type**                 | Homogeneous (same type)               | Heterogeneous (mixed types)         |\n",
        "| **Memory Efficiency**         | More memory-efficient                 | Less efficient                      |\n",
        "| **Performance**               | Faster for numerical operations       | Slower for numerical operations     |\n",
        "| **Vectorized Operations**     | Supports vectorized operations        | Does not support natively           |\n",
        "| **Multidimensional Support**  | Supports n-dimensional arrays         | Limited support (nested lists)      |\n",
        "| **Reshaping & Broadcasting**  | Supports reshaping and broadcasting   | No built-in support                 |\n",
        "| **Mathematical Functions**    | Extensive mathematical functions      | Limited mathematical capabilities   |\n",
        "| **Handling Missing Values**   | Built-in support (np.nan)             | No built-in support                 |\n",
        "| **Flexibility**               | Less flexible (same type elements)    | More flexible (mixed type elements) |\n",
        "| **Methods**                   | Built-in scientific methods           | Basic list methods only             |\n",
        "\n",
        "### Conclusion:\n",
        "- **NumPy arrays** are designed for **efficient numerical computing** with optimized performance, supporting advanced operations like vectorized calculations, multidimensional arrays, and efficient memory usage. They are ideal for scientific and mathematical tasks.\n",
        "- **Python lists** are more **general-purpose** and offer flexibility with mixed data types but are not efficient for numerical operations or large datasets. They are better suited for basic data storage and manipulation tasks where performance is not a critical factor."
      ],
      "metadata": {
        "id": "LWXc3ksNs7D-"
      }
    },
    {
      "cell_type": "markdown",
      "source": [],
      "metadata": {
        "id": "iuavzMFgtdC-"
      }
    },
    {
      "cell_type": "markdown",
      "source": [
        "7. What is a heatmap, and when should it be used?\n"
      ],
      "metadata": {
        "id": "WPaZHvCMthqy"
      }
    },
    {
      "cell_type": "markdown",
      "source": [
        "A heatmap is a data visualization technique used to represent data in a matrix format where individual values are displayed as colors. The matrix typically represents a two-dimensional dataset (like a table or grid), with each cell's color intensity corresponding to a specific value. The color gradient, from cool (e.g., blue) to warm (e.g., red), is used to convey the magnitude of values, where typically darker or warmer colors represent higher values and lighter or cooler colors represent lower values.\n",
        "\n",
        "Heatmaps are particularly useful for displaying relationships between variables, patterns, and trends within large datasets, where raw numbers might be hard to interpret. They are widely used in fields like data analysis, machine learning, statistics, and geographic information systems."
      ],
      "metadata": {
        "id": "zMthTMXMt8PB"
      }
    },
    {
      "cell_type": "markdown",
      "source": [
        "When Should a Heatmap be Used?\n",
        "\n",
        "Heatmaps are especially useful in scenarios where you need to:\n",
        "\n",
        "1. Visualize Correlation or Relationships Between Variables:\n",
        "Heatmaps are commonly used to visualize correlation matrices in statistics, where the relationship between two or more variables is displayed in a grid. A high correlation will be indicated by a darker color, and a low correlation by a lighter color.\n"
      ],
      "metadata": {
        "id": "g1HBoCR3t9QC"
      }
    },
    {
      "cell_type": "markdown",
      "source": [
        "2. Display Large Volumes of Data:\n",
        "\n",
        "Heatmaps are ideal for visualizing large datasets where individual values may be hard to interpret. They allow users to identify patterns at a glance without being overwhelmed by raw numbers."
      ],
      "metadata": {
        "id": "60RlA-KNuFVB"
      }
    },
    {
      "cell_type": "markdown",
      "source": [
        "3. Detect Patterns and Anomalies:\n",
        "\n",
        "Heatmaps are effective at identifying trends or anomalies in the data. Changes in color intensity allow users to detect patterns, outliers, or clusters of similar values.\n"
      ],
      "metadata": {
        "id": "w0Ucj7eOuL6y"
      }
    },
    {
      "cell_type": "markdown",
      "source": [
        "4. Represent Geospatial Data:\n",
        "\n",
        "Heatmaps can be used to represent geospatial data, like population density, traffic patterns, or environmental factors. Each cell or region on the map is colored to indicate the intensity of a specific variable."
      ],
      "metadata": {
        "id": "NgwyGWGiuY00"
      }
    },
    {
      "cell_type": "markdown",
      "source": [
        "5. Display Performance Metrics:\n",
        "\n",
        "Heatmaps are often used to show performance metrics, such as sales figures, financial data, or any measurement that can vary by location, time, or other categorical factors."
      ],
      "metadata": {
        "id": "GLCBVDEkud8p"
      }
    },
    {
      "cell_type": "markdown",
      "source": [
        "6. Comparing Data Across Categories:\n",
        "\n",
        "Heatmaps can help compare data across multiple categories or groups, such as comparing the effectiveness of marketing campaigns across different regions or customer demographics."
      ],
      "metadata": {
        "id": "uEMNyz3WujND"
      }
    },
    {
      "cell_type": "markdown",
      "source": [
        "8Q. What does the term “vectorized operation” mean in NumPy?\n"
      ],
      "metadata": {
        "id": "BfCnOpCiuob4"
      }
    },
    {
      "cell_type": "markdown",
      "source": [
        "A vectorized operation in NumPy refers to performing operations on entire arrays (or parts of arrays) at once, rather than using explicit loops to iterate over individual elements. This is made possible by NumPy's support for element-wise operations. These operations leverage highly optimized, low-level implementations (often written in C or Fortran) to execute the operation on the entire array efficiently.\n",
        "\n",
        "In simpler terms, vectorized operations allow you to perform operations on arrays without needing to write explicit for-loops in Python. Instead, NumPy allows you to operate directly on the whole array (or part of it), which is faster and more concise than writing loops."
      ],
      "metadata": {
        "id": "8J-FkKRQu_t3"
      }
    },
    {
      "cell_type": "markdown",
      "source": [
        "9.Q How does Matplotlib differ from Plotly?\n"
      ],
      "metadata": {
        "id": "hPWRHePZvBGa"
      }
    },
    {
      "cell_type": "markdown",
      "source": [
        "### Matplotlib vs. Plotly: Key Differences\n",
        "\n",
        "Both **Matplotlib** and **Plotly** are powerful Python libraries for data visualization, but they differ in terms of their features, usability, and intended use cases. Here’s a detailed comparison:\n",
        "\n",
        "---\n",
        "\n",
        "### 1. **Interactivity**\n",
        "   - **Matplotlib**:\n",
        "     - Matplotlib is primarily **static** and designed for creating static visualizations, such as static line charts, histograms, bar charts, and scatter plots. It does not natively support interactive features, although you can enable some interactivity using **Matplotlib's** integration with **Jupyter notebooks** or by using external libraries like **mplcursors** or **Matplotlib widgets**.\n",
        "     - Its primary goal is to generate publication-quality plots for static usage, such as in reports or research papers.\n",
        "   \n",
        "   - **Plotly**:\n",
        "     - Plotly is designed for **interactive** visualizations. It allows users to interact with the charts via zooming, panning, hovering, clicking, and more. You can create **dynamic, responsive** plots that are suitable for dashboards and web applications.\n",
        "     - **Plotly Express** (a high-level API in Plotly) makes it easy to generate interactive plots with just a few lines of code.\n",
        "\n",
        "   **Example**:\n",
        "   - In **Matplotlib**, to zoom or pan, you need external libraries or use tools in the Jupyter notebook interface.\n",
        "   - In **Plotly**, zooming and panning are built-in by default.\n",
        "\n",
        "---\n",
        "\n",
        "### 2. **Ease of Use**\n",
        "   - **Matplotlib**:\n",
        "     - **More verbose** and requires more code for certain tasks. To create complex visualizations like a multi-axis chart or subplots, you need more lines of code.\n",
        "     - It gives more **control** over plot customization, but it requires you to manually adjust parameters and fine-tune the plot.\n",
        "     - Matplotlib is great for users who need precise control over the style and elements of the plot.\n",
        "   \n",
        "   - **Plotly**:\n",
        "     - **Higher-level API** with built-in functions to create complex interactive plots with very little code.\n",
        "     - It's easier to use for rapid prototyping and interactive dashboards, but less customizable than Matplotlib for advanced, fine-grained adjustments.\n",
        "     - Plotly is great for quick, attractive visualizations and web-based applications.\n",
        "\n",
        "   **Example**:\n",
        "   - A basic **line plot** in Matplotlib:\n",
        "     ```python\n",
        "     import matplotlib.pyplot as plt\n",
        "     x = [1, 2, 3, 4]\n",
        "     y = [1, 4, 9, 16]\n",
        "     plt.plot(x, y)\n",
        "     plt.show()\n",
        "     ```\n",
        "   - The same line plot in **Plotly**:\n",
        "     ```python\n",
        "     import plotly.express as px\n",
        "     fig = px.line(x=[1, 2, 3, 4], y=[1, 4, 9, 16])\n",
        "     fig.show()\n",
        "     ```\n",
        "\n",
        "---\n",
        "\n",
        "### 3. **Output Format**\n",
        "   - **Matplotlib**:\n",
        "     - Generates **static images** in formats like PNG, JPG, PDF, or SVG. These plots are commonly used for reports, publications, and presentations.\n",
        "     - Can be used to save high-quality, publication-ready figures.\n",
        "   \n",
        "   - **Plotly**:\n",
        "     - Produces **interactive visualizations** that can be embedded into web applications and dashboards.\n",
        "     - Supports exporting as static images (PNG, JPG, etc.) but is primarily known for interactive web-based outputs like **HTML** files.\n",
        "     - Plotly plots are often embedded in web apps or exported as standalone HTML files, which users can interact with directly.\n",
        "\n",
        "---\n",
        "\n",
        "### 4. **Customization and Flexibility**\n",
        "   - **Matplotlib**:\n",
        "     - **Highly customizable** for fine-tuning every aspect of the plot. You can adjust tick marks, labels, colors, line styles, fonts, etc., at a granular level.\n",
        "     - If you need detailed control over the visual appearance, Matplotlib is often the go-to choice.\n",
        "   \n",
        "   - **Plotly**:\n",
        "     - Provides good customization options but is more focused on user-friendly interfaces and **default aesthetic choices**.\n",
        "     - While you can still customize various plot elements (like colors, axes, and labels), it may not be as flexible as Matplotlib for highly specific or intricate customizations.\n",
        "\n",
        "---\n",
        "\n",
        "### 5. **Integration**\n",
        "   - **Matplotlib**:\n",
        "     - Well-suited for **scientific computing** and data analysis pipelines where integration with other libraries such as **NumPy**, **SciPy**, and **Pandas** is important.\n",
        "     - It integrates easily into **Jupyter notebooks** for inline visualizations.\n",
        "   \n",
        "   - **Plotly**:\n",
        "     - Plotly integrates well with **Dash**, which is a Python framework for building interactive web applications. Plotly is widely used for building interactive **data dashboards** and web apps.\n",
        "     - It also works well with **Pandas** and **NumPy**, making it a good choice for data scientists who need to build dynamic, interactive reports or applications.\n",
        "\n",
        "---\n",
        "\n",
        "### 6. **Performance**\n",
        "   - **Matplotlib**:\n",
        "     - Generally more **performant** for static visualizations because it works with fewer resources. However, it may struggle with large datasets, particularly when rendering complex figures with many elements.\n",
        "     - It can become slower when handling extremely large datasets or highly complex plots.\n",
        "   \n",
        "   - **Plotly**:\n",
        "     - Although Plotly is designed for interactivity, it may not be as **fast** as Matplotlib for rendering large datasets due to the extra overhead required for interactivity.\n",
        "     - For very large datasets, it may require optimization strategies (e.g., downsampling data) to maintain performance.\n",
        "\n",
        "---\n",
        "\n",
        "### 7. **Learning Curve**\n",
        "   - **Matplotlib**:\n",
        "     - **Steeper learning curve** for beginners. It requires understanding concepts like `axes`, `figure`, and handling plot elements explicitly.\n",
        "     - It has a more detailed and **low-level approach**, making it harder to get started with, especially for new users.\n",
        "   \n",
        "   - **Plotly**:\n",
        "     - **Easier to get started** with, especially for creating interactive visualizations with less effort. You can create basic plots with minimal code, and Plotly provides interactive tutorials and documentation.\n",
        "     - More user-friendly for those new to data visualization or those who need quick, interactive charts.\n",
        "\n",
        "---\n",
        "\n",
        "### 8. **Use Cases**\n",
        "   - **Matplotlib**:\n",
        "     - Best for **static plots** that need to be published in papers or reports.\n",
        "     - Useful for **scientific visualizations** and when you need precise control over the appearance of the plot.\n",
        "   \n",
        "   - **Plotly**:\n",
        "     - Best for **interactive plots** that are embedded in web apps, dashboards, or shared for exploration.\n",
        "     - Ideal for **data exploration**, presentations, or building **web-based visualization apps**.\n",
        "\n",
        "---\n",
        "\n",
        "### Summary Table\n",
        "\n",
        "| Feature                     | **Matplotlib**                               | **Plotly**                                  |\n",
        "|-----------------------------|----------------------------------------------|---------------------------------------------|\n",
        "| **Interactivity**            | Static (can add interactivity with external tools) | Fully interactive (zoom, hover, pan)      |\n",
        "| **Ease of Use**              | Requires more code and customization         | High-level API, easier for rapid prototyping |\n",
        "| **Output Format**            | Static (PNG, PDF, SVG)                       | Interactive (HTML, embedded in web apps)   |\n",
        "| **Customization**            | Highly customizable                          | Good customization, less flexible than Matplotlib |\n",
        "| **Performance**              | Faster for static plots, slower for complex plots | Slower for large datasets, optimized for interactivity |\n",
        "| **Integration**              | Works well with NumPy, SciPy, Pandas         | Works well with Pandas, Dash for web apps   |\n",
        "| **Learning Curve**           | Steeper                                      | Easier to learn, more user-friendly        |\n",
        "| **Primary Use Case**         | Scientific, publication-quality plots        | Interactive web-based visualizations, dashboards |\n",
        "\n"
      ],
      "metadata": {
        "id": "Bd5m4Qwavgv7"
      }
    },
    {
      "cell_type": "markdown",
      "source": [],
      "metadata": {
        "id": "G_w65pqgvlev"
      }
    },
    {
      "cell_type": "markdown",
      "source": [
        "10.Q What is the significance of hierarchical indexing in Pandas?\n"
      ],
      "metadata": {
        "id": "FBQJlXG1vq1j"
      }
    },
    {
      "cell_type": "markdown",
      "source": [
        "### What is Hierarchical Indexing in Pandas?\n",
        "\n",
        "**Hierarchical indexing**, also known as **multi-level indexing**, is a feature in Pandas that allows you to have multiple (two or more) levels of indexing for the rows or columns of a DataFrame or Series. This feature is useful for representing more complex data structures and performing operations that involve different levels of grouping and aggregating.\n",
        "\n",
        "### Significance of Hierarchical Indexing:\n",
        "\n",
        "1. **Handling Complex Datasets**:\n",
        "   - Hierarchical indexing enables the handling of **multi-dimensional data** in a structured, easy-to-manage way. For example, you can represent data that has more than one level of categorization (such as time series data with multiple periods or geographical data with multiple regions and cities).\n",
        "   - It's commonly used for **grouping and summarizing** data that spans multiple levels, making it easier to analyze data that has hierarchical relationships.\n",
        "\n",
        "2. **Improved Data Representation**:\n",
        "   - Instead of creating a flat structure (which may result in repetitive data), hierarchical indexing organizes data in a more **compact and readable format**. This can simplify operations like filtering, aggregating, or reshaping the data.\n",
        "   - For example, a dataset about sales performance might have both \"Region\" and \"Product\" as dimensions, and hierarchical indexing allows you to group the data by both simultaneously.\n",
        "\n",
        "3. **Easier Data Selection and Access**:\n",
        "   - With hierarchical indexing, you can select data using **multiple levels of indexing**. This allows for more specific data retrieval without needing to filter or subset the data manually.\n",
        "   - You can slice and dice data with ease across multiple levels using `loc`, `iloc`, or `.xs()` (cross-section) methods.\n",
        "\n",
        "4. **Flexibility in Aggregation and Grouping**:\n",
        "   - It facilitates efficient **grouping** and **aggregation** over multiple levels. You can perform operations like summing, averaging, or applying functions to specific subgroups in the hierarchical structure.\n",
        "   - Pandas provides powerful aggregation functions (like `groupby`), which work efficiently with hierarchical indices.\n",
        "\n",
        "5. **Simplifies Pivoting and Reshaping**:\n",
        "   - Hierarchical indexing makes it easier to pivot or reshape data. For example, you can create multi-index DataFrames for **pivot tables** or perform **unstacking** and **stacking** operations to reshape the data.\n",
        "   - Operations like `stack()` and `unstack()` allow you to rearrange the levels of the index to make data analysis more intuitive.\n",
        "\n"
      ],
      "metadata": {
        "id": "p8uBHCNMv9W9"
      }
    },
    {
      "cell_type": "markdown",
      "source": [
        "11 Q. What is the role of Seaborn’s pairplot() function?\n"
      ],
      "metadata": {
        "id": "AFmhLWQYwKgk"
      }
    },
    {
      "cell_type": "markdown",
      "source": [
        "The `seaborn.pairplot()` function in Seaborn is used to create a matrix of scatterplots (pairwise plots) for each pair of variables in a dataset. It provides an easy way to visualize relationships between multiple variables in a dataset and understand the pairwise correlations or interactions between them. Here's a breakdown of its key roles:\n",
        "\n",
        "1. **Pairwise Relationships**: It plots scatterplots for every possible pair of numeric variables, making it easier to visualize the relationships between them.\n",
        "\n",
        "2. **Diagonal Histograms/Kernel Density Plots**: By default, the diagonal of the matrix shows univariate plots (such as histograms or kernel density estimates) for each variable, which helps to see the distribution of each individual variable.\n",
        "\n",
        "3. **Coloring by Category**: You can color the plots by a categorical variable, which allows you to observe how different groups within the categorical variable relate to the numerical variables.\n",
        "\n",
        "4. **Correlation Insights**: It helps in detecting correlations or patterns between different pairs of features in the dataset, making it useful for exploratory data analysis (EDA).\n",
        "\n",
        "### Example usage:\n",
        "```python\n",
        "import seaborn as sns\n",
        "import matplotlib.pyplot as plt\n",
        "\n",
        "# Load an example dataset\n",
        "df = sns.load_dataset('iris')\n",
        "\n",
        "# Create a pairplot\n",
        "sns.pairplot(df, hue=\"species\")\n",
        "\n",
        "plt.show()\n",
        "```\n",
        "\n",
        "In this example, `pairplot()` plots pairwise relationships of features in the Iris dataset, with different species colored differently for better comparison."
      ],
      "metadata": {
        "id": "AD_vYMCt7pjI"
      }
    },
    {
      "cell_type": "markdown",
      "source": [
        "12 Q. What is the purpose of the describe() function in Pandas?\n"
      ],
      "metadata": {
        "id": "EA4-6ma57tAB"
      }
    },
    {
      "cell_type": "markdown",
      "source": [
        "The purpose of the describe() function in Pandas is to generate a summary of descriptive statistics for a DataFrame or Series, which provides insight into the distribution and characteristics of the data. It is typically used during the exploratory data analysis (EDA) phase to quickly understand the statistical properties of the dataset."
      ],
      "metadata": {
        "id": "5qc7XmPf70wH"
      }
    },
    {
      "cell_type": "markdown",
      "source": [
        "13 Q. Why is handling missing data important in Pandas?\n"
      ],
      "metadata": {
        "id": "0Wvupa5N8Nin"
      }
    },
    {
      "cell_type": "markdown",
      "source": [
        "Handling missing data is crucial in **Pandas** (and in data analysis in general) because missing or incomplete data can lead to biased, misleading, or incorrect results. Properly handling missing data ensures the integrity of the analysis, models, and insights derived from the data. Here are the key reasons why it is important to handle missing data:\n",
        "\n",
        "### 1. **Prevents Errors in Calculations and Models**\n",
        "   - Missing data can cause errors in mathematical operations, such as averages, sums, or correlations. For example, trying to compute the mean of a column that contains `NaN` (Not a Number) values may return `NaN`, skewing results.\n",
        "   - Many machine learning algorithms, such as regression or decision trees, cannot handle missing values directly and may fail or produce incorrect predictions if missing data is not addressed.\n",
        "\n",
        "### 2. **Improves Data Quality**\n",
        "   - Missing data may indicate issues with data collection or data entry processes. By addressing missing values, you can clean your data and ensure it accurately represents the real-world situation.\n",
        "   - Missing values can distort the analysis if not handled, leading to incorrect conclusions.\n",
        "\n",
        "### 3. **Ensures Accurate Statistical Analysis**\n",
        "   - Statistical methods often require complete datasets. If missing data is not appropriately managed, it can affect statistical tests, hypothesis testing, and models, leading to inaccurate results.\n",
        "   - For example, `NaN` values in a column may affect the distribution of the data, leading to incorrect inferences.\n",
        "\n",
        "### 4. **Preserves Integrity of Data Analysis**\n",
        "   - Inconsistent handling of missing data (e.g., ignoring or randomly filling missing values) can lead to biased results, affecting the validity of the analysis.\n",
        "   - It's important to address missing data systematically, such as using imputation, interpolation, or removing rows/columns, depending on the context and nature of the missing data.\n",
        "\n",
        "### 5. **Improves Model Performance**\n",
        "   - In machine learning, handling missing data effectively (e.g., imputing missing values with mean/median or using algorithms that support missing values) can improve the performance and accuracy of predictive models.\n",
        "   - Many models can perform better when missing data is handled appropriately, ensuring the models are not trained on incomplete or faulty information.\n",
        "\n"
      ],
      "metadata": {
        "id": "Itrwp46A8gGs"
      }
    },
    {
      "cell_type": "markdown",
      "source": [
        "14 Q. What are the benefits of using Plotly for data visualization?\n"
      ],
      "metadata": {
        "id": "sSe0iJbe8nBb"
      }
    },
    {
      "cell_type": "markdown",
      "source": [
        "**Plotly** is a powerful and versatile library for creating interactive and visually appealing data visualizations in Python. It provides a wide range of benefits, making it a popular choice for data visualization. Here are the key benefits of using Plotly for data visualization:\n",
        "\n",
        "### 1. **Interactive Visualizations**\n",
        "   - **Interactive Features**: Plotly visualizations are interactive by default. Users can zoom, pan, hover to get more information, and toggle elements on or off (e.g., data series, axes). This interactivity makes it easier to explore and understand complex datasets.\n",
        "   - **Hover Text**: You can add detailed hover text to visualizations, making it simple to provide more information about data points without cluttering the graph.\n",
        "   - **Clickable Legends**: Users can interact with the legend to hide or show specific data series, improving the exploration of multi-series data.\n",
        "\n",
        "### 2. **High-Quality, Publication-Ready Graphs**\n",
        "   - **Aesthetically Pleasing**: Plotly’s default graphs are visually appealing with high-quality rendering. This makes it ideal for creating publication-ready visuals without needing additional styling or post-processing.\n",
        "   - **Customizable**: Plotly allows deep customization of graphs, including colors, fonts, and other visual elements, ensuring that the visuals fit the user’s specific needs.\n",
        "\n",
        "### 3. **Wide Range of Plot Types**\n",
        "   - **Variety of Plots**: Plotly supports many different types of plots, including but not limited to:\n",
        "     - Scatter plots\n",
        "     - Line plots\n",
        "     - Bar charts\n",
        "     - Box plots\n",
        "     - Heatmaps\n",
        "     - Pie charts\n",
        "     - 3D surface and scatter plots\n",
        "     - Choropleth maps\n",
        "     - Bubble charts\n",
        "     - Geospatial plots (e.g., maps)\n",
        "   - **3D and Geographic Visualizations**: Plotly makes it easy to create 3D plots and geographic maps, which can help in visualizing complex spatial and multi-dimensional data.\n",
        "\n",
        "### 4. **Integration with Other Tools**\n",
        "   - **Integration with Dash**: Plotly integrates seamlessly with Dash, a framework for building web applications with interactive plots. Dash allows you to build rich data visualizations that can be embedded in web applications.\n",
        "   - **Jupyter Notebooks**: Plotly works well within Jupyter Notebooks, providing a smooth experience for data scientists and analysts who work in a notebook environment. The interactive plots render directly in the notebook interface.\n",
        "   - **Support for Pandas**: Plotly can easily be integrated with Pandas DataFrames, making it convenient to plot data directly from a structured dataset.\n",
        "   - **APIs for Multiple Languages**: Plotly offers APIs not only for Python but also for R, JavaScript, and other programming languages, making it versatile across various development environments.\n",
        "\n",
        "### 5. **Online and Offline Modes**\n",
        "   - **Online Mode**: Plotly allows you to create visualizations and store them in the cloud (via the Plotly account), enabling easy sharing and collaboration with others.\n",
        "   - **Offline Mode**: Plotly also supports offline mode, meaning you can generate and view plots locally without needing an internet connection. This is useful for private data and situations where online access is limited.\n",
        "\n",
        "### 6. **Seamless Integration with Pandas and NumPy**\n",
        "   - Plotly’s ease of integration with **Pandas** (for data manipulation) and **NumPy** (for numerical computations) makes it highly effective for data scientists and analysts who are already using these libraries for data processing.\n",
        "\n",
        "### 7. **Responsive Layouts**\n",
        "   - Plotly visualizations are responsive, meaning they automatically adjust their size and layout based on the available screen size. This is particularly useful for web and mobile applications, ensuring that the visualizations look good across devices with different screen resolutions.\n",
        "\n",
        "### 8. **Support for Statistical and Scientific Graphs**\n",
        "   - Plotly is not only suited for basic charts but also for advanced statistical and scientific visualizations. You can create complex charts like **violin plots**, **contour plots**, **histograms**, **KDE plots**, and **trend lines**. These are highly valuable for analytical purposes, especially in research or data science contexts.\n",
        "\n",
        "### 9. **Collaboration and Sharing**\n",
        "   - **Sharing Visualizations**: Plotly supports easy sharing of visualizations with interactive features on the Plotly platform or by exporting static images (like PNG or SVG).\n",
        "   - **Embedding**: You can embed Plotly visualizations into websites, Jupyter Notebooks, or even blogs, making it easy to share interactive content with others.\n",
        "\n",
        "### 10. **Real-Time Data Visualization**\n",
        "   - Plotly is well-suited for creating **real-time visualizations**, where the data updates dynamically. This is particularly useful for applications in monitoring dashboards, live analytics, or financial data analysis.\n",
        "\n",
        "### 11. **Extensive Documentation and Community Support**\n",
        "   - Plotly comes with comprehensive documentation, examples, and tutorials, making it easy for new users to get started. The Plotly community is active, and there are many resources and forums for troubleshooting and learning.\n",
        "  \n"
      ],
      "metadata": {
        "id": "VNlbrhyQ82Nc"
      }
    },
    {
      "cell_type": "markdown",
      "source": [
        "15 Q. How does NumPy handle multidimensional arrays?\n"
      ],
      "metadata": {
        "id": "EZRwaGfh864K"
      }
    },
    {
      "cell_type": "markdown",
      "source": [
        "**NumPy** is a powerful library for numerical computing in Python, and one of its key features is its ability to handle **multidimensional arrays** efficiently. These arrays are known as **ndarrays**, where \"n\" refers to the number of dimensions. Here’s how NumPy handles multidimensional arrays:\n",
        "\n",
        "### 1. **Multidimensional Arrays (ndarray)**\n",
        "   - A **multidimensional array** in NumPy is an array with more than one dimension. For example:\n",
        "     - A **1D array** is a simple vector, like `[1, 2, 3]`.\n",
        "     - A **2D array** is like a matrix, such as `[[1, 2], [3, 4], [5, 6]]`.\n",
        "     - A **3D array** can represent a collection of matrices, like `[[[1, 2], [3, 4]], [[5, 6], [7, 8]]]`.\n",
        "   - In NumPy, all arrays are objects of the `ndarray` class, which can represent arrays of any number of dimensions.\n",
        "\n",
        "### 2. **Shape and Structure**\n",
        "   - **Shape**: Each ndarray has a `shape` attribute that returns a tuple representing the dimensions of the array.\n",
        "     - For example:\n",
        "       - A 1D array has a shape of `(n,)`, where `n` is the number of elements.\n",
        "       - A 2D array has a shape of `(m, n)`, where `m` is the number of rows and `n` is the number of columns.\n",
        "       - A 3D array has a shape of `(m, n, p)`, where `m` is the number of matrices, `n` is the number of rows, and `p` is the number of columns.\n",
        "   - The `shape` attribute allows you to understand the structure of the array and how data is stored across dimensions.\n",
        "   - Example:\n",
        "     "
      ],
      "metadata": {
        "id": "V5csfGZe9Gnb"
      }
    },
    {
      "cell_type": "code",
      "source": [
        "import numpy as np\n",
        "arr_2d = np.array([[1, 2], [3, 4], [5, 6]])\n",
        "print(arr_2d.shape)\n"
      ],
      "metadata": {
        "colab": {
          "base_uri": "https://localhost:8080/"
        },
        "id": "UPJD2-tW-BJ0",
        "outputId": "d14faa23-7a18-4185-f195-885316bc6a01"
      },
      "execution_count": 1,
      "outputs": [
        {
          "output_type": "stream",
          "name": "stdout",
          "text": [
            "(3, 2)\n"
          ]
        }
      ]
    },
    {
      "cell_type": "code",
      "source": [],
      "metadata": {
        "id": "J7CnlmNx-cKq"
      },
      "execution_count": null,
      "outputs": []
    },
    {
      "cell_type": "markdown",
      "source": [
        "3. Indexing and Slicing\n",
        "\n",
        "Indexing: In multidimensional arrays, you can access elements using a combination of indices.\n",
        "\n",
        "For 2D arrays: arr[row, column]\n",
        "\n",
        "For 3D arrays: arr[depth, row, column]\n",
        "\n",
        "Example:"
      ],
      "metadata": {
        "id": "sP0QN8HA-cyq"
      }
    },
    {
      "cell_type": "code",
      "source": [
        "arr_2d = np.array([[1, 2], [3, 4], [5, 6]])\n",
        "print(arr_2d[1, 0])"
      ],
      "metadata": {
        "colab": {
          "base_uri": "https://localhost:8080/"
        },
        "id": "L9Z8_adb-oRJ",
        "outputId": "ea92fa74-c0e1-41fc-cdf5-cd4240c4d700"
      },
      "execution_count": 2,
      "outputs": [
        {
          "output_type": "stream",
          "name": "stdout",
          "text": [
            "3\n"
          ]
        }
      ]
    },
    {
      "cell_type": "markdown",
      "source": [
        "Slicing: NumPy allows slicing of multidimensional arrays in a way that’s similar to slicing in 1D arrays, but with more flexibility.\n",
        "\n",
        "\n",
        "You can slice a 2D array to get subarrays or specific rows/columns.\n",
        "\n",
        "For 2D arrays: arr[start_row:end_row, start_col:end_col]\n",
        "\n",
        "For 3D arrays: arr[start_depth:end_depth, start_row:end_row, start_col:end_col]\n",
        "\n",
        "Example:"
      ],
      "metadata": {
        "id": "z74GwShL-t1y"
      }
    },
    {
      "cell_type": "code",
      "source": [
        "arr_2d = np.array([[1, 2], [3, 4], [5, 6]])\n",
        "print(arr_2d[0:2, 0:1])"
      ],
      "metadata": {
        "colab": {
          "base_uri": "https://localhost:8080/"
        },
        "id": "KEiegR-i-7Qs",
        "outputId": "28c62847-10d9-49a7-cfdd-62fc5b28fa8a"
      },
      "execution_count": 3,
      "outputs": [
        {
          "output_type": "stream",
          "name": "stdout",
          "text": [
            "[[1]\n",
            " [3]]\n"
          ]
        }
      ]
    },
    {
      "cell_type": "markdown",
      "source": [
        "### 4. **Broadcasting**\n",
        "   - **Broadcasting** is a mechanism that allows NumPy to perform operations on arrays of different shapes. When performing element-wise operations (like addition, subtraction, etc.), NumPy automatically aligns arrays of different shapes so that they can be operated on together.\n",
        "     - For example, if you have a 2D array and a 1D array, NumPy will \"stretch\" the 1D array across the rows (or columns) of the 2D array for element-wise operations.\n",
        "   - Broadcasting rules:\n",
        "     - The dimensions of the arrays must be compatible.\n",
        "     - If one array has fewer dimensions than the other, NumPy will pad the smaller array with ones to match the number of dimensions.\n",
        "     - Arrays are broadcasted from the rightmost dimension to the left.\n",
        "   - Example:\n",
        "    "
      ],
      "metadata": {
        "id": "6OkrCSwq-_B2"
      }
    },
    {
      "cell_type": "code",
      "source": [
        "arr_2d = np.array([[1, 2], [3, 4], [5, 6]])\n",
        "arr_1d = np.array([10, 20])\n",
        "result = arr_2d + arr_1d  # Broadcasting arr_1d to each row of arr_2d\n",
        "print(result)"
      ],
      "metadata": {
        "colab": {
          "base_uri": "https://localhost:8080/"
        },
        "id": "MaspqWCS_U9g",
        "outputId": "b637632c-fb9d-4400-ffbb-a1dc87a63ce3"
      },
      "execution_count": 4,
      "outputs": [
        {
          "output_type": "stream",
          "name": "stdout",
          "text": [
            "[[11 22]\n",
            " [13 24]\n",
            " [15 26]]\n"
          ]
        }
      ]
    },
    {
      "cell_type": "code",
      "source": [],
      "metadata": {
        "id": "l7bweOWJ_b_v"
      },
      "execution_count": null,
      "outputs": []
    },
    {
      "cell_type": "markdown",
      "source": [
        "5. Reshaping Arrays\n",
        "\n",
        "NumPy allows you to reshape multidimensional arrays without changing the data, so you can transform the shape of an array to match the structure you need.\n",
        "\n",
        "Use the reshape() method to change the shape of an array.\n"
      ],
      "metadata": {
        "id": "Vs_u-Nl8_qr0"
      }
    },
    {
      "cell_type": "code",
      "source": [
        "arr = np.array([1, 2, 3, 4, 5, 6])\n",
        "reshaped_arr = arr.reshape(2, 3)  # Reshapes to 2 rows and 3 columns\n",
        "print(reshaped_arr)"
      ],
      "metadata": {
        "colab": {
          "base_uri": "https://localhost:8080/"
        },
        "id": "OF6apn9D_xWB",
        "outputId": "bd467a24-64d1-4649-8131-d6c755dd33ed"
      },
      "execution_count": 5,
      "outputs": [
        {
          "output_type": "stream",
          "name": "stdout",
          "text": [
            "[[1 2 3]\n",
            " [4 5 6]]\n"
          ]
        }
      ]
    },
    {
      "cell_type": "markdown",
      "source": [
        "6. Efficient Memory Handling\n",
        "\n",
        "NumPy arrays are stored in contiguous memory blocks, which makes them more efficient than regular Python lists when working with large multidimensional datasets. This results in faster access and computation times, as well as lower memory usage.\n",
        "\n",
        "\n",
        "This is particularly important when dealing with large datasets in scientific computing or data analysis."
      ],
      "metadata": {
        "id": "Cy0YmSr6_2z8"
      }
    },
    {
      "cell_type": "markdown",
      "source": [
        "7. Mathematical Operations on Multidimensional Arrays\n",
        "\n",
        "NumPy provides efficient element-wise operations on multidimensional arrays, including addition, subtraction, multiplication, division, and other mathematical operations. These operations are vectorized, meaning they are applied to entire arrays without the need for explicit loops.\n",
        "\n",
        "Example:\n",
        "\n"
      ],
      "metadata": {
        "id": "s260RXDlAAML"
      }
    },
    {
      "cell_type": "code",
      "source": [
        "arr_2d = np.array([[1, 2], [3, 4], [5, 6]])\n",
        "result = arr_2d * 2  # Element-wise multiplication by 2\n",
        "print(result)\n"
      ],
      "metadata": {
        "colab": {
          "base_uri": "https://localhost:8080/"
        },
        "id": "OZRCa2FAATUg",
        "outputId": "076eeab1-42c8-4a79-914a-5e09df0dc227"
      },
      "execution_count": 6,
      "outputs": [
        {
          "output_type": "stream",
          "name": "stdout",
          "text": [
            "[[ 2  4]\n",
            " [ 6  8]\n",
            " [10 12]]\n"
          ]
        }
      ]
    },
    {
      "cell_type": "markdown",
      "source": [
        "8. Aggregation Functions\n",
        "\n",
        "NumPy provides several functions that work across dimensions, allowing for operations like sum, mean, min, max, etc.\n",
        "\n",
        "You can apply these functions along a specific axis (e.g., along rows or columns).\n",
        "\n",
        "Example:\n",
        "\n"
      ],
      "metadata": {
        "id": "7RDEwcTxAYS_"
      }
    },
    {
      "cell_type": "code",
      "source": [
        "arr_2d = np.array([[1, 2], [3, 4], [5, 6]])\n",
        "column_sums = np.sum(arr_2d, axis=0)  # Sum along columns\n",
        "print(column_sums)"
      ],
      "metadata": {
        "colab": {
          "base_uri": "https://localhost:8080/"
        },
        "id": "Ij05Sio2Atm9",
        "outputId": "2e794a4b-f2c9-48c3-cdf4-ab7daedd303c"
      },
      "execution_count": 7,
      "outputs": [
        {
          "output_type": "stream",
          "name": "stdout",
          "text": [
            "[ 9 12]\n"
          ]
        }
      ]
    },
    {
      "cell_type": "markdown",
      "source": [
        "16 Q. What is the role of Bokeh in data visualization?\n"
      ],
      "metadata": {
        "id": "BYvliqmMAytF"
      }
    },
    {
      "cell_type": "markdown",
      "source": [
        "**Bokeh** is a powerful and interactive data visualization library in Python that is primarily used to create highly interactive and customizable plots, dashboards, and web-based visualizations. It is particularly suited for modern web browsers, enabling users to create interactive visualizations that can be embedded into web applications or shared over the internet.\n",
        "\n",
        "Here are the key roles and features of **Bokeh** in data visualization:\n",
        "\n",
        "### 1. **Interactive Visualizations**\n",
        "   - **Interactivity by Default**: Bokeh’s primary strength lies in creating interactive plots where users can zoom, pan, hover, and click on elements. These interactions allow users to explore data in depth without needing to rely on static visualizations.\n",
        "   - **Widgets for Interaction**: Bokeh provides various widgets like sliders, dropdown menus, buttons, and checkboxes, enabling users to interact with the data directly on the visualization (e.g., dynamically changing the plot based on user input).\n",
        "\n",
        "### 2. **High-Quality, Web-Ready Visualizations**\n",
        "   - **HTML & JavaScript Integration**: Bokeh outputs visualizations in HTML, and the visualizations can be easily embedded into web pages. This makes it an excellent choice for creating web-based dashboards and interactive reports.\n",
        "   - **Web Browser Compatibility**: Visualizations created with Bokeh are highly optimized for modern web browsers, ensuring they are responsive, interactive, and visually appealing across different devices.\n",
        "   - **No Need for Additional Plugins**: Bokeh leverages JavaScript for rendering, so users do not need to install any extra plugins in their browsers to interact with the visualizations.\n",
        "\n",
        "### 3. **Wide Range of Plot Types**\n",
        "   - **Basic Plots**: Bokeh supports basic plot types like scatter plots, line plots, bar charts, and histograms.\n",
        "   - **Advanced Plots**: It also supports more advanced visualizations like:\n",
        "     - Heatmaps\n",
        "     - Contour plots\n",
        "     - Geographic maps\n",
        "     - Network graphs\n",
        "     - Time series plots\n",
        "     - 3D plots (with third-party integrations)\n",
        "   - This makes Bokeh versatile for a variety of visualization needs, from simple plots to complex multi-dimensional data visualizations.\n",
        "\n",
        "### 4. **Real-Time Data Visualization**\n",
        "   - Bokeh can be used to create **real-time interactive visualizations**, which are ideal for use cases like monitoring dashboards, live data streams, or data updates in real-time. This makes it highly useful for applications in IoT, financial data tracking, and system monitoring.\n",
        "\n",
        "### 5. **Efficient for Large Datasets**\n",
        "   - **Handling Large Datasets**: Bokeh is optimized for handling large datasets and can efficiently display data with thousands or even millions of data points. It uses techniques like **downsampling** and **webgl rendering** to ensure smooth performance even with large datasets.\n",
        "\n",
        "### 6. **Integration with Other Python Libraries**\n",
        "   - **Integration with Pandas**: Bokeh integrates seamlessly with **Pandas** DataFrames, making it easy to plot data directly from tabular datasets.\n",
        "   - **Integration with NumPy**: It works well with **NumPy** arrays for numerical data.\n",
        "   - **Integration with Machine Learning Libraries**: Bokeh can be used alongside machine learning and statistical libraries (like **Scikit-learn**, **Statsmodels**, and **TensorFlow**) to visualize model performance, results, or predictions interactively.\n",
        "\n",
        "### 7. **Customization and Flexibility**\n",
        "   - **Highly Customizable**: Bokeh allows for a high degree of customization in the visual appearance of the plot, including control over colors, fonts, sizes, axes, legends, grid lines, and tooltips.\n",
        "   - **Layouts and Grids**: Bokeh supports arranging multiple plots together in a grid layout, enabling users to create complex multi-panel figures or dashboards.\n",
        "\n",
        "### 8. **Embedding and Sharing**\n",
        "   - **Embedding in Web Applications**: Bokeh visualizations can be easily embedded into **web applications** and **Jupyter Notebooks**. This allows data scientists and analysts to share interactive visualizations with a broader audience, directly in web-based interfaces.\n",
        "   - **Standalone HTML Files**: Bokeh visualizations can be saved as standalone HTML files, which can be shared or published without requiring additional servers or backend systems.\n",
        "   - **Integration with Web Frameworks**: Bokeh integrates with popular web frameworks like **Flask**, **Django**, and **Dash**, allowing developers to embed the plots in web applications for broader accessibility.\n",
        "\n",
        "### 9. **Extensive Documentation and Community**\n",
        "   - **Rich Documentation**: Bokeh comes with detailed documentation and examples to help users get started with creating visualizations, making it accessible to beginners as well as experienced developers.\n",
        "   - **Active Community**: Bokeh has an active and growing community, which contributes to a wealth of tutorials, blog posts, and open-source resources for learning and troubleshooting.\n",
        "\n"
      ],
      "metadata": {
        "id": "E3c-gd9BBHfm"
      }
    },
    {
      "cell_type": "markdown",
      "source": [
        "17 Q. Explain the difference between apply() and map() in Pandas?"
      ],
      "metadata": {
        "id": "tZ-jTb20Bbj4"
      }
    },
    {
      "cell_type": "markdown",
      "source": [
        "In **Pandas**, both `apply()` and `map()` are used to apply functions to data, but they work in different ways and are intended for different purposes. Here’s a detailed explanation of the differences between the two:\n",
        "\n",
        "### 1. **Functionality and Scope**\n",
        "\n",
        "- **`apply()`**:\n",
        "  - **General Purpose**: The `apply()` function is more flexible and can be used on both **Series** and **DataFrames**. It applies a function along an axis of the DataFrame (rows or columns) or to each element of a Series.\n",
        "  - **Works with Rows or Columns (DataFrame)**: When used on a **DataFrame**, you can specify whether the function should be applied along rows (`axis=1`) or columns (`axis=0`).\n",
        "  - **More Complex Operations**: Since `apply()` allows you to apply a function along rows or columns, it can be used for more complex operations that involve multiple elements within a row or column.\n",
        "\n",
        "  **Example:**\n",
        "  \n",
        "\n"
      ],
      "metadata": {
        "id": "8XTH9Bo8Bj0I"
      }
    },
    {
      "cell_type": "code",
      "source": [
        "import pandas as pd\n",
        "\n",
        "df = pd.DataFrame({\n",
        "    'A': [1, 2, 3],\n",
        "    'B': [4, 5, 6]\n",
        "})\n",
        "\n",
        "# Apply a function to each column (axis=0)\n",
        "result = df.apply(sum, axis=0)\n",
        "print(result)\n",
        "# Output: A    6\n",
        "#         B    15\n",
        "\n",
        "# Apply a function to each row (axis=1)\n",
        "result = df.apply(sum, axis=1)\n",
        "print(result)\n",
        "\n"
      ],
      "metadata": {
        "colab": {
          "base_uri": "https://localhost:8080/"
        },
        "id": "pAGzjtIjAt5E",
        "outputId": "f7fe104d-afa0-49fe-ed8f-a484d6c0a17b"
      },
      "execution_count": 8,
      "outputs": [
        {
          "output_type": "stream",
          "name": "stdout",
          "text": [
            "A     6\n",
            "B    15\n",
            "dtype: int64\n",
            "0    5\n",
            "1    7\n",
            "2    9\n",
            "dtype: int64\n"
          ]
        }
      ]
    },
    {
      "cell_type": "markdown",
      "source": [
        "\n",
        "- **`map()`**:\n",
        "  - **Series-Specific**: The `map()` function is primarily designed to work on **Series**. It is used for element-wise transformations on a **single column** (Series).\n",
        "  - **Simpler Use Case**: `map()` is generally used for simpler transformations like replacing values or applying a function element-wise to each item in the Series. It can also handle dictionaries or other mappings (e.g., from a series of values to another series of values).\n",
        "  - **Faster for Simple Operations**: `map()` is optimized for element-wise operations and is faster when you just need to apply a simple transformation on a Series.\n",
        "\n",
        "  "
      ],
      "metadata": {
        "id": "QuqWFghcB40V"
      }
    },
    {
      "cell_type": "code",
      "source": [
        "import pandas as pd\n",
        "\n",
        "series = pd.Series([1, 2, 3, 4, 5])\n",
        "\n",
        "# Apply a function element-wise to each item\n",
        "result = series.map(lambda x: x * 2)\n",
        "print(result)\n",
        "# Output: 0     2\n",
        "#         1     4\n",
        "#         2     6\n",
        "#         3     8\n",
        "#         4    10\n",
        "\n",
        "# Mapping values based on a dictionary\n",
        "result = series.map({1: 'A', 2: 'B', 3: 'C'})\n",
        "print(result)\n",
        "\n"
      ],
      "metadata": {
        "colab": {
          "base_uri": "https://localhost:8080/"
        },
        "id": "q1VK8oz2CHPK",
        "outputId": "352d18ca-bdbe-43e2-b7b7-18c4cc593ca1"
      },
      "execution_count": 9,
      "outputs": [
        {
          "output_type": "stream",
          "name": "stdout",
          "text": [
            "0     2\n",
            "1     4\n",
            "2     6\n",
            "3     8\n",
            "4    10\n",
            "dtype: int64\n",
            "0      A\n",
            "1      B\n",
            "2      C\n",
            "3    NaN\n",
            "4    NaN\n",
            "dtype: object\n"
          ]
        }
      ]
    },
    {
      "cell_type": "markdown",
      "source": [
        "### 2. **Performance**\n",
        "\n",
        "- **`apply()`**: Since `apply()` is more general and flexible, it is usually slower than `map()` when applied to a Series. This is because `apply()` involves more overhead, especially when dealing with complex operations like working across rows or columns in a DataFrame.\n",
        "- **`map()`**: `map()` is typically faster than `apply()` for element-wise operations on a Series since it is optimized for simple transformations and works directly on the data in the Series.\n",
        "\n",
        "### 3. **Flexibility in Use**\n",
        "\n",
        "- **`apply()`**:\n",
        "  - Can be used for **row-wise** or **column-wise** operations on a **DataFrame** (not just element-wise operations).\n",
        "  - Allows you to apply **more complex functions** that may need access to multiple elements at once (e.g., aggregations, custom functions).\n",
        "\n",
        "- **`map()`**:\n",
        "  - Works only on **Series**.\n",
        "  - Best suited for **element-wise transformations** and replacements (like mapping values from one domain to another or applying a simple function).\n",
        "\n",
        "### 4. **Use Cases**\n",
        "\n",
        "- **`apply()`**:\n",
        "  - When you need to apply a function to each row or column of a DataFrame.\n",
        "  - When the function needs access to multiple columns or rows at once (e.g., calculating statistics).\n",
        "  - When working with complex data transformations.\n",
        "\n",
        "- **`map()`**:\n",
        "  - When you want to apply a function to each element of a **single Series**.\n",
        "  - When you need to **map values** from one set of values to another (e.g., using a dictionary or a function).\n",
        "\n",
        "### 5. **Handling of Missing Values**\n",
        "\n",
        "- **`apply()`**: Missing values (`NaN`) are passed to the function in `apply()`. It depends on the function whether missing values are handled properly or not.\n",
        "  \n",
        "- **`map()`**: Missing values (`NaN`) are propagated when using `map()`. For example, if you map a dictionary to a Series, any value not found in the dictionary will be replaced with `NaN`.\n",
        "\n",
        "### Summary of Differences\n",
        "\n",
        "| Feature             | `apply()`                                          | `map()`                                  |\n",
        "|---------------------|---------------------------------------------------|------------------------------------------|\n",
        "| **Purpose**          | Can be used on both Series and DataFrames         | Primarily for element-wise transformations on Series |\n",
        "| **Flexibility**      | More flexible (works on rows, columns, etc.)      | Less flexible (element-wise for Series)  |\n",
        "| **Performance**      | Slower, especially for row/column-wise operations | Faster for simple element-wise operations |\n",
        "| **Use Cases**        | Complex transformations, row/column operations    | Simple element-wise transformations, mapping values |\n",
        "| **Missing Values**   | Depends on the function                           | Propagates `NaN` if the value is missing |\n",
        "| **Output**           | Can return Series or DataFrame                    | Returns a Series                         |\n"
      ],
      "metadata": {
        "id": "XRQP2TGwCHmE"
      }
    },
    {
      "cell_type": "markdown",
      "source": [
        "Q 18. What are some advanced features of NumPy?\n"
      ],
      "metadata": {
        "id": "20-3CRnyCqrl"
      }
    },
    {
      "cell_type": "markdown",
      "source": [
        "**NumPy** is a powerful library for numerical computations in Python, and it comes with a wide array of advanced features that make it essential for data science, machine learning, scientific computing, and many other fields. Here are some of the **advanced features of NumPy**:\n",
        "\n",
        "### 1. **Broadcasting**\n",
        "   - **Broadcasting** is a mechanism that allows NumPy to perform arithmetic operations on arrays of different shapes. When performing operations on arrays of different shapes, NumPy automatically aligns them so that they can be broadcasted to a common shape.\n",
        "   - Broadcasting avoids the need for explicit loops, leading to more concise and efficient code.\n",
        "   \n",
        "   **Example:**"
      ],
      "metadata": {
        "id": "g67ifgdeDJZs"
      }
    },
    {
      "cell_type": "code",
      "source": [
        "import numpy as np\n",
        "arr_2d = np.array([[1, 2], [3, 4], [5, 6]])\n",
        "arr_1d = np.array([10, 20])\n",
        "\n",
        "result = arr_2d + arr_1d  # Broadcasting arr_1d across arr_2d\n",
        "print(result)\n",
        "\n"
      ],
      "metadata": {
        "colab": {
          "base_uri": "https://localhost:8080/"
        },
        "id": "SJu_s0FwDU6R",
        "outputId": "8c7301c2-b6d2-4d21-d251-411d39225651"
      },
      "execution_count": 21,
      "outputs": [
        {
          "output_type": "stream",
          "name": "stdout",
          "text": [
            "[[11 22]\n",
            " [13 24]\n",
            " [15 26]]\n"
          ]
        }
      ]
    },
    {
      "cell_type": "markdown",
      "source": [
        "\n",
        "### 2. **Vectorization**\n",
        "   - **Vectorization** refers to writing operations in a way that they apply to entire arrays or matrices without needing explicit Python loops. It allows you to leverage low-level optimizations in NumPy, making operations on large datasets faster and more efficient.\n",
        "   - Vectorized operations are typically much faster than using regular Python loops because NumPy is optimized to use highly efficient C implementations.\n",
        "\n",
        "  \n",
        "\n",
        ""
      ],
      "metadata": {
        "id": "tsiVG50gDVOE"
      }
    },
    {
      "cell_type": "code",
      "source": [
        "arr = np.array([1, 2, 3, 4, 5])\n",
        "result = arr * 2  # Element-wise multiplication (vectorized)\n",
        "print(result)\n",
        "\n"
      ],
      "metadata": {
        "colab": {
          "base_uri": "https://localhost:8080/"
        },
        "id": "zZGzowhRDmZA",
        "outputId": "3fc11176-8997-4009-a3f5-886bde91467d"
      },
      "execution_count": 20,
      "outputs": [
        {
          "output_type": "stream",
          "name": "stdout",
          "text": [
            "[ 2  4  6  8 10]\n"
          ]
        }
      ]
    },
    {
      "cell_type": "markdown",
      "source": [
        "\n",
        "### 3. **Advanced Indexing and Slicing**\n",
        "   - NumPy provides powerful indexing and slicing mechanisms for selecting data from arrays. This includes:\n",
        "     - **Boolean indexing**: Using conditions to select elements.\n",
        "     - **Fancy indexing**: Using lists or arrays to index multiple elements at once.\n",
        "     - **Multidimensional slicing**: Slicing arrays in multiple dimensions simultaneously.\n",
        "   \n",
        "   **Example:**\n",
        "   "
      ],
      "metadata": {
        "id": "v5HDDojbDnzw"
      }
    },
    {
      "cell_type": "code",
      "source": [
        "arr = np.array([[1, 2, 3], [4, 5, 6], [7, 8, 9]])\n",
        "\n",
        "# Fancy indexing\n",
        "print(arr[[0, 2], [1, 2]])  # Output: [2 9]\n",
        "\n",
        "# Boolean indexing\n",
        "print(arr[arr > 5])\n"
      ],
      "metadata": {
        "colab": {
          "base_uri": "https://localhost:8080/"
        },
        "id": "FHMNRF3gD1LV",
        "outputId": "eed32c0a-72f4-462f-b593-c85a8c6ba7ad"
      },
      "execution_count": 19,
      "outputs": [
        {
          "output_type": "stream",
          "name": "stdout",
          "text": [
            "[2 9]\n",
            "[6 7 8 9]\n"
          ]
        }
      ]
    },
    {
      "cell_type": "markdown",
      "source": [
        "\n",
        "### 4. **Linear Algebra Operations**\n",
        "   - NumPy provides a comprehensive suite of functions for **linear algebra** operations, including:\n",
        "     - Matrix multiplication: `np.dot()`, `@` operator.\n",
        "     - Determinants: `np.linalg.det()`.\n",
        "     - Eigenvalues and eigenvectors: `np.linalg.eig()`.\n",
        "     - Matrix decompositions: LU, QR, Singular Value Decomposition (SVD), etc.\n",
        "     - Solving linear systems: `np.linalg.solve()`.\n",
        "     - Inversion of matrices: `np.linalg.inv()`.\n",
        "\n",
        "   **Example:**\n",
        "  "
      ],
      "metadata": {
        "id": "uRpl_5TmD1eh"
      }
    },
    {
      "cell_type": "code",
      "source": [
        "a = np.array([[1, 2], [3, 4]])\n",
        "b = np.array([[5, 6], [7, 8]])\n",
        "\n",
        "# Matrix multiplication\n",
        "result = np.dot(a, b)\n",
        "print(result)\n",
        "# Output:\n",
        "# [[19 22]\n",
        "#  [43 50]]\n",
        "\n",
        "# Eigenvalues and eigenvectors\n",
        "eigenvalues, eigenvectors = np.linalg.eig(a)\n",
        "print(\"Eigenvalues:\", eigenvalues)\n"
      ],
      "metadata": {
        "colab": {
          "base_uri": "https://localhost:8080/"
        },
        "id": "kh_Q3rP1ECdi",
        "outputId": "5fccb984-423d-4b6d-b75b-e94064a32740"
      },
      "execution_count": 18,
      "outputs": [
        {
          "output_type": "stream",
          "name": "stdout",
          "text": [
            "[[19 22]\n",
            " [43 50]]\n",
            "Eigenvalues: [-0.37228132  5.37228132]\n"
          ]
        }
      ]
    },
    {
      "cell_type": "markdown",
      "source": [
        "### 5. **Random Module**\n",
        "   - **NumPy's random module** (`np.random`) provides tools for generating random numbers, which are crucial for simulations, Monte Carlo methods, random sampling, and bootstrapping. It includes:\n",
        "     - Random sampling from various distributions (uniform, normal, binomial, etc.).\n",
        "     - Shuffling and permutation of arrays.\n",
        "     - Generating random integers or floats.\n",
        "     - Random seeds for reproducibility.\n",
        "\n",
        "   **Example:**\n",
        "  "
      ],
      "metadata": {
        "id": "VarTbeQHECvu"
      }
    },
    {
      "cell_type": "code",
      "source": [
        "import numpy as np\n",
        "\n",
        "# Generating random numbers\n",
        "rand = np.random.random((3, 3))  # 3x3 matrix with values between 0 and 1\n",
        "print(rand)\n",
        "\n",
        "# Random integers from 1 to 10\n",
        "rand_int = np.random.randint(1, 10, size=(2, 2))\n",
        "print(rand_int)\n"
      ],
      "metadata": {
        "colab": {
          "base_uri": "https://localhost:8080/"
        },
        "id": "gumw4ZJbEREM",
        "outputId": "9feda144-5695-4c1d-98c6-dd7672444a92"
      },
      "execution_count": 17,
      "outputs": [
        {
          "output_type": "stream",
          "name": "stdout",
          "text": [
            "[[0.62411297 0.27507331 0.28155474]\n",
            " [0.40058781 0.08436437 0.98046817]\n",
            " [0.60984312 0.3386109  0.51691744]]\n",
            "[[4 7]\n",
            " [5 5]]\n"
          ]
        }
      ]
    },
    {
      "cell_type": "markdown",
      "source": [
        "### 6. **Strides and Memory Layout**\n",
        "   - **Strides** refer to the number of bytes to step in each dimension when traversing an array. NumPy’s advanced memory management techniques allow you to access elements of an array more efficiently.\n",
        "   - Understanding **array memory layout** and **strides** can help optimize performance, especially for large datasets. This feature is used in scientific computing and image processing.\n",
        "   \n",
        "   **Example:**\n",
        "   "
      ],
      "metadata": {
        "id": "OEulaO8fERap"
      }
    },
    {
      "cell_type": "code",
      "source": [
        "arr = np.array([[1, 2], [3, 4]], dtype=np.int32)\n",
        "print(arr.strides)\n"
      ],
      "metadata": {
        "colab": {
          "base_uri": "https://localhost:8080/"
        },
        "id": "DHAR9YlgEcRI",
        "outputId": "6474c965-10e0-4117-d775-2214ea2ba641"
      },
      "execution_count": 16,
      "outputs": [
        {
          "output_type": "stream",
          "name": "stdout",
          "text": [
            "(8, 4)\n"
          ]
        }
      ]
    },
    {
      "cell_type": "markdown",
      "source": [
        "### 7. **Universal Functions (ufuncs)**\n",
        "   - **Universal functions (ufuncs)** are fast, element-wise operations that can be performed on NumPy arrays. They operate on whole arrays at once without the need for explicit loops and are implemented in C for performance.\n",
        "   - NumPy provides a wide range of built-in ufuncs for mathematical, logical, comparison, and other types of operations.\n",
        "\n",
        "   **Example:**\n",
        "   "
      ],
      "metadata": {
        "id": "ntihGB0cEclZ"
      }
    },
    {
      "cell_type": "code",
      "source": [
        "arr = np.array([1, 2, 3, 4])\n",
        "\n",
        "# Using a ufunc to compute the square root of each element\n",
        "result = np.sqrt(arr)\n",
        "print(result)\n"
      ],
      "metadata": {
        "colab": {
          "base_uri": "https://localhost:8080/"
        },
        "id": "Wfos0N9iEqfc",
        "outputId": "b5b531a6-1152-4d1f-aa48-3fef8c8a8731"
      },
      "execution_count": 15,
      "outputs": [
        {
          "output_type": "stream",
          "name": "stdout",
          "text": [
            "[1.         1.41421356 1.73205081 2.        ]\n"
          ]
        }
      ]
    },
    {
      "cell_type": "markdown",
      "source": [
        "### 8. **Memory Views and Slicing (ndarray views)**\n",
        "   - NumPy arrays support **views**, which allow you to create new arrays that share the same data buffer (memory), meaning they don’t require copying the data. This can significantly improve memory efficiency.\n",
        "   - **Slicing** returns views of the original array, not copies, unless explicitly copied.\n",
        "\n",
        "   **Example:**\n",
        "   "
      ],
      "metadata": {
        "id": "m7NLj-ewEq10"
      }
    },
    {
      "cell_type": "code",
      "source": [
        "arr = np.array([1, 2, 3, 4, 5])\n",
        "view = arr[1:4]  # View of a slice of the original array\n",
        "view[0] = 10      # Modifying the view also modifies the original array\n",
        "print(arr)\n"
      ],
      "metadata": {
        "colab": {
          "base_uri": "https://localhost:8080/"
        },
        "id": "LB9YOw0yE2-n",
        "outputId": "a7edbf8d-502a-46e6-9cec-24a0921e9802"
      },
      "execution_count": 14,
      "outputs": [
        {
          "output_type": "stream",
          "name": "stdout",
          "text": [
            "[ 1 10  3  4  5]\n"
          ]
        }
      ]
    },
    {
      "cell_type": "markdown",
      "source": [
        "### 9. **Advanced Linear Algebra: Singular Value Decomposition (SVD)**\n",
        "   - **SVD** is a powerful matrix decomposition technique commonly used in signal processing, machine learning, and statistics. NumPy provides functions like `np.linalg.svd()` to compute the SVD of a matrix.\n",
        "\n",
        "   **Example:**\n",
        "  "
      ],
      "metadata": {
        "id": "jsX2MPWHE3bp"
      }
    },
    {
      "cell_type": "code",
      "source": [
        "a = np.array([[1, 2], [3, 4], [5, 6]])\n",
        "U, S, Vt = np.linalg.svd(a)\n",
        "print(\"U:\", U)\n",
        "print(\"S:\", S)\n",
        "print(\"Vt:\", Vt)\n"
      ],
      "metadata": {
        "colab": {
          "base_uri": "https://localhost:8080/"
        },
        "id": "-cHjE6YXFCty",
        "outputId": "348cfd56-4fdb-4d6f-c75e-c4409b1b53d6"
      },
      "execution_count": 13,
      "outputs": [
        {
          "output_type": "stream",
          "name": "stdout",
          "text": [
            "U: [[-0.2298477   0.88346102  0.40824829]\n",
            " [-0.52474482  0.24078249 -0.81649658]\n",
            " [-0.81964194 -0.40189603  0.40824829]]\n",
            "S: [9.52551809 0.51430058]\n",
            "Vt: [[-0.61962948 -0.78489445]\n",
            " [-0.78489445  0.61962948]]\n"
          ]
        }
      ]
    },
    {
      "cell_type": "markdown",
      "source": [
        "### 10. **Working with Structured Arrays (Recarrays)**\n",
        "   - **Structured arrays** allow you to define arrays with **heterogeneous data types** in each column. This is particularly useful for storing and working with tabular data in a way that is more efficient than using lists or dictionaries.\n",
        "   - **Record arrays (recarrays)** provide a way to access columns by attribute names.\n",
        "\n",
        "   **Example:**\n",
        "  "
      ],
      "metadata": {
        "id": "iA9DNa6kFDEM"
      }
    },
    {
      "cell_type": "code",
      "source": [
        "dtype = [('name', 'S10'), ('age', 'i4')]\n",
        "values = [('John', 25), ('Alice', 30)]\n",
        "arr = np.array(values, dtype=dtype)\n",
        "print(arr['name'])\n"
      ],
      "metadata": {
        "colab": {
          "base_uri": "https://localhost:8080/"
        },
        "id": "ogypKdGUFOYC",
        "outputId": "63c43118-c247-440f-d786-6dc2cdeb3fcf"
      },
      "execution_count": 12,
      "outputs": [
        {
          "output_type": "stream",
          "name": "stdout",
          "text": [
            "[b'John' b'Alice']\n"
          ]
        }
      ]
    },
    {
      "cell_type": "markdown",
      "source": [
        "\n",
        "### 11. **Efficient Memory Allocation with `np.memmap`**\n",
        "   - **Memory-mapped files** (`np.memmap`) allow you to work with large datasets that do not fit into memory by mapping a file directly into memory. This is useful when dealing with large files (e.g., datasets larger than the available RAM) as it avoids loading the entire file into memory.\n",
        "\n",
        "   **Example:**\n",
        "  "
      ],
      "metadata": {
        "id": "CYCqv-WbFOsl"
      }
    },
    {
      "cell_type": "code",
      "source": [
        "# Create a memory-mapped file\n",
        "arr = np.memmap('large_file.dat', dtype='float32', mode='w+', shape=(100000, 1000))\n",
        "\n",
        "# Modify data in memory without fully loading it\n",
        "arr[0, 0] = 1.0\n"
      ],
      "metadata": {
        "id": "_ycmN7GWFZKv"
      },
      "execution_count": 11,
      "outputs": []
    },
    {
      "cell_type": "markdown",
      "source": [
        "### 12. **High-Level Operations with `np.vectorize`**\n",
        "   - The `np.vectorize()` function allows you to apply a function element-wise to an array. It’s similar to `map()`, but optimized for NumPy arrays and can be used to apply any function over arrays, making it easier to vectorize complex functions.\n",
        "\n",
        "   **Example:**\n",
        "  "
      ],
      "metadata": {
        "id": "SGPO7wdJFZhZ"
      }
    },
    {
      "cell_type": "code",
      "source": [
        "def add(x, y):\n",
        "    return x + y\n",
        "\n",
        "vec_add = np.vectorize(add)\n",
        "result = vec_add(np.array([1, 2, 3]), np.array([4, 5, 6]))\n",
        "print(result)"
      ],
      "metadata": {
        "colab": {
          "base_uri": "https://localhost:8080/"
        },
        "id": "3dWRop3gFj0W",
        "outputId": "0cd53778-6bca-46a2-c443-642f456b1335"
      },
      "execution_count": 10,
      "outputs": [
        {
          "output_type": "stream",
          "name": "stdout",
          "text": [
            "[5 7 9]\n"
          ]
        }
      ]
    },
    {
      "cell_type": "markdown",
      "source": [
        "Q 19. How does Pandas simplify time series analysis?\n"
      ],
      "metadata": {
        "id": "eqGQCPseGkqu"
      }
    },
    {
      "cell_type": "markdown",
      "source": [
        "Pandas simplifies time series analysis by providing powerful tools and functionality designed specifically for working with time-related data. It handles time series data efficiently and allows analysts and data scientists to perform various operations like resampling, shifting, and rolling windows with ease. Here are some key ways in which Pandas simplifies time series analysis:"
      ],
      "metadata": {
        "id": "2KBTsucxjL5n"
      }
    },
    {
      "cell_type": "markdown",
      "source": [
        "1. Date and Time Handling\n",
        "\n",
        "Pandas has a robust support for datetime objects, making it easy to handle time series data in a consistent format.\n",
        "\n",
        "The pd.to_datetime() function allows you to convert various formats of date and time strings into Pandas Datetime objects. Once in this format, you can perform time-based operations easily.\n",
        "\n",
        "Example:"
      ],
      "metadata": {
        "id": "tKZpITgXjhWe"
      }
    },
    {
      "cell_type": "code",
      "source": [
        "import pandas as pd\n",
        "\n",
        "# Convert a string to a datetime object\n",
        "dates = pd.to_datetime(['2024-01-01', '2024-02-01', '2024-03-01'])\n",
        "print(dates)\n"
      ],
      "metadata": {
        "colab": {
          "base_uri": "https://localhost:8080/"
        },
        "id": "m-VU4SXfjoba",
        "outputId": "18913522-7086-4d66-df13-221251fa125f"
      },
      "execution_count": 1,
      "outputs": [
        {
          "output_type": "stream",
          "name": "stdout",
          "text": [
            "DatetimeIndex(['2024-01-01', '2024-02-01', '2024-03-01'], dtype='datetime64[ns]', freq=None)\n"
          ]
        }
      ]
    },
    {
      "cell_type": "markdown",
      "source": [
        "2. DatetimeIndex\n",
        "\n",
        "DatetimeIndex: Pandas allows time series data to be indexed by DatetimeIndex. This enables efficient indexing and selection based on time-related criteria.\n",
        "\n",
        "Using a DatetimeIndex, you can easily select rows based on time ranges or perform time-based slicing.\n",
        "\n",
        "Example:"
      ],
      "metadata": {
        "id": "dLTEqSMejtkC"
      }
    },
    {
      "cell_type": "code",
      "source": [
        "date_range = pd.date_range('2024-01-01', periods=5, freq='D')\n",
        "df = pd.DataFrame({'value': [1, 2, 3, 4, 5]}, index=date_range)\n",
        "print(df)\n",
        "\n"
      ],
      "metadata": {
        "colab": {
          "base_uri": "https://localhost:8080/"
        },
        "id": "Cg0OaKVQj32d",
        "outputId": "1ac4ff32-e138-4c08-943b-dc9c287b0928"
      },
      "execution_count": 2,
      "outputs": [
        {
          "output_type": "stream",
          "name": "stdout",
          "text": [
            "            value\n",
            "2024-01-01      1\n",
            "2024-01-02      2\n",
            "2024-01-03      3\n",
            "2024-01-04      4\n",
            "2024-01-05      5\n"
          ]
        }
      ]
    },
    {
      "cell_type": "markdown",
      "source": [
        "3. Resampling\n",
        "\n",
        "Resampling allows you to change the frequency of your time series data, such as aggregating daily data to monthly data (or vice versa).\n",
        "\n",
        "With resample(), you can group the data by specific time periods (e.g., M for month, D for day, A for year) and apply aggregation functions (e.g., sum, mean, min, max).\n",
        "\n",
        "Example:"
      ],
      "metadata": {
        "id": "XKxGSAlsj9y1"
      }
    },
    {
      "cell_type": "code",
      "source": [
        "df = pd.DataFrame({'value': [1, 2, 3, 4, 5]}, index=pd.date_range('2024-01-01', periods=5, freq='D'))\n",
        "\n",
        "# Resample the data to monthly frequency and take the sum\n",
        "monthly_data = df.resample('M').sum()\n",
        "print(monthly_data)\n"
      ],
      "metadata": {
        "colab": {
          "base_uri": "https://localhost:8080/"
        },
        "id": "59owczaBkFrH",
        "outputId": "c5d7a042-ea28-4cd1-80dd-e1231135f002"
      },
      "execution_count": 3,
      "outputs": [
        {
          "output_type": "stream",
          "name": "stdout",
          "text": [
            "            value\n",
            "2024-01-31     15\n"
          ]
        },
        {
          "output_type": "stream",
          "name": "stderr",
          "text": [
            "<ipython-input-3-db5d994e52da>:4: FutureWarning: 'M' is deprecated and will be removed in a future version, please use 'ME' instead.\n",
            "  monthly_data = df.resample('M').sum()\n"
          ]
        }
      ]
    },
    {
      "cell_type": "markdown",
      "source": [
        "4. Time Shifting\n",
        "\n",
        "Time shifting allows you to shift your time series data by a specified number of periods, either forward or backward. This is particularly useful for computing changes in values over time, like computing differences or lag features.\n",
        "\n",
        "The shift() function allows you to shift your data forward or backward along the time axis.\n",
        "\n",
        "Example:"
      ],
      "metadata": {
        "id": "symfr_ZUkLPW"
      }
    },
    {
      "cell_type": "code",
      "source": [
        "df = pd.DataFrame({'value': [1, 2, 3, 4, 5]}, index=pd.date_range('2024-01-01', periods=5, freq='D'))\n",
        "\n",
        "# Shift the data by one day\n",
        "shifted_data = df.shift(1)\n",
        "print(shifted_data)\n",
        "\n"
      ],
      "metadata": {
        "colab": {
          "base_uri": "https://localhost:8080/"
        },
        "id": "xIS845ZDkXog",
        "outputId": "511a4f76-dae4-4897-df71-893a0c3f459b"
      },
      "execution_count": 4,
      "outputs": [
        {
          "output_type": "stream",
          "name": "stdout",
          "text": [
            "            value\n",
            "2024-01-01    NaN\n",
            "2024-01-02    1.0\n",
            "2024-01-03    2.0\n",
            "2024-01-04    3.0\n",
            "2024-01-05    4.0\n"
          ]
        }
      ]
    },
    {
      "cell_type": "markdown",
      "source": [
        "5. Rolling Window Operations\n",
        "\n",
        "Rolling windows are useful for performing operations like moving averages or smoothing over time. Pandas provides a rolling() function to apply window-based operations like mean, sum, standard deviation, etc., over a specified number of time periods.\n",
        "\n",
        "This is especially useful for smoothing or identifying trends in time series data.\n",
        "\n",
        "Example:"
      ],
      "metadata": {
        "id": "ZBakSCd5kc4t"
      }
    },
    {
      "cell_type": "code",
      "source": [
        "df = pd.DataFrame({'value': [1, 2, 3, 4, 5]}, index=pd.date_range('2024-01-01', periods=5, freq='D'))\n",
        "\n",
        "# Calculate the rolling mean with a window size of 3\n",
        "rolling_mean = df['value'].rolling(window=3).mean()\n",
        "print(rolling_mean)\n",
        "\n"
      ],
      "metadata": {
        "colab": {
          "base_uri": "https://localhost:8080/"
        },
        "id": "okIIby0PklXp",
        "outputId": "0ba75cf8-cddb-4c40-ba28-a50dc496218d"
      },
      "execution_count": 5,
      "outputs": [
        {
          "output_type": "stream",
          "name": "stdout",
          "text": [
            "2024-01-01    NaN\n",
            "2024-01-02    NaN\n",
            "2024-01-03    2.0\n",
            "2024-01-04    3.0\n",
            "2024-01-05    4.0\n",
            "Freq: D, Name: value, dtype: float64\n"
          ]
        }
      ]
    },
    {
      "cell_type": "markdown",
      "source": [
        "6. Time Zone Handling\n",
        "\n",
        "Pandas provides extensive support for time zone handling, allowing you to convert between time zones and perform operations on time-aware data.\n",
        "\n",
        "The tz_localize() method is used to localize a datetime object to a specific time zone, and the tz_convert() method is used to convert the time to another time zone.\n",
        "\n",
        "Example:"
      ],
      "metadata": {
        "id": "Ka7OZGlMkqra"
      }
    },
    {
      "cell_type": "code",
      "source": [
        "df = pd.DataFrame({'value': [1, 2, 3]}, index=pd.date_range('2024-01-01', periods=3, freq='D'))\n",
        "df.index = df.index.tz_localize('UTC')\n",
        "\n",
        "# Convert from UTC to US/Eastern time\n",
        "df.index = df.index.tz_convert('US/Eastern')\n",
        "print(df)\n"
      ],
      "metadata": {
        "colab": {
          "base_uri": "https://localhost:8080/"
        },
        "id": "yTqd7R5kkz4O",
        "outputId": "f8f1a97f-f783-4028-cff0-980d6c0c8eb2"
      },
      "execution_count": 6,
      "outputs": [
        {
          "output_type": "stream",
          "name": "stdout",
          "text": [
            "                           value\n",
            "2023-12-31 19:00:00-05:00      1\n",
            "2024-01-01 19:00:00-05:00      2\n",
            "2024-01-02 19:00:00-05:00      3\n"
          ]
        }
      ]
    },
    {
      "cell_type": "markdown",
      "source": [
        "7. Time Periods and PeriodIndex\n",
        "\n",
        "PeriodIndex is a specific index for time series data that is useful for working with periods (e.g., quarterly, monthly, etc.).\n",
        "\n",
        "It allows you to perform operations with time periods (e.g., monthly or quarterly) instead of specific dates."
      ],
      "metadata": {
        "id": "QowBy15Pk5PO"
      }
    },
    {
      "cell_type": "code",
      "source": [
        "period_index = pd.period_range('2024-01', '2024-12', freq='M')\n",
        "df = pd.DataFrame({'value': range(12)}, index=period_index)\n",
        "print(df)\n"
      ],
      "metadata": {
        "colab": {
          "base_uri": "https://localhost:8080/"
        },
        "id": "v_klHOeRlAtg",
        "outputId": "c67a4e9f-927b-434e-e040-40a91f66d0ab"
      },
      "execution_count": 7,
      "outputs": [
        {
          "output_type": "stream",
          "name": "stdout",
          "text": [
            "         value\n",
            "2024-01      0\n",
            "2024-02      1\n",
            "2024-03      2\n",
            "2024-04      3\n",
            "2024-05      4\n",
            "2024-06      5\n",
            "2024-07      6\n",
            "2024-08      7\n",
            "2024-09      8\n",
            "2024-10      9\n",
            "2024-11     10\n",
            "2024-12     11\n"
          ]
        }
      ]
    },
    {
      "cell_type": "markdown",
      "source": [
        "8. Date Range Generation\n",
        "\n",
        "Pandas provides convenient methods to generate sequences of dates or time periods with specific frequencies using the pd.date_range() function.\n",
        "\n",
        "You can specify start and end dates, the frequency (e.g., daily, monthly, hourly), and the number of periods.\n",
        "\n",
        "Example:"
      ],
      "metadata": {
        "id": "wbyWhqFnlGsj"
      }
    },
    {
      "cell_type": "code",
      "source": [
        "date_range = pd.date_range('2024-01-01', periods=5, freq='D')\n",
        "print(date_range)\n"
      ],
      "metadata": {
        "colab": {
          "base_uri": "https://localhost:8080/"
        },
        "id": "rBvYY9GMlOub",
        "outputId": "8d953b8e-786c-47b8-8c7a-c277c61f109c"
      },
      "execution_count": 8,
      "outputs": [
        {
          "output_type": "stream",
          "name": "stdout",
          "text": [
            "DatetimeIndex(['2024-01-01', '2024-01-02', '2024-01-03', '2024-01-04',\n",
            "               '2024-01-05'],\n",
            "              dtype='datetime64[ns]', freq='D')\n"
          ]
        }
      ]
    },
    {
      "cell_type": "markdown",
      "source": [
        "9. Handling Missing Data in Time Series\n",
        "\n",
        "Time series data often has missing or NaN values. Pandas provides functions like fillna() and interpolate() for filling or interpolating missing values in time series data.\n",
        "\n",
        "For example, you can forward-fill or backfill missing values based on adjacent time points.\n",
        "\n",
        "Example:"
      ],
      "metadata": {
        "id": "QTTQ06JllTX_"
      }
    },
    {
      "cell_type": "code",
      "source": [
        "df = pd.DataFrame({'value': [1, None, 3, None, 5]}, index=pd.date_range('2024-01-01', periods=5, freq='D'))\n",
        "\n",
        "# Forward-fill missing values\n",
        "df_filled = df.fillna(method='ffill')\n",
        "print(df_filled)\n"
      ],
      "metadata": {
        "colab": {
          "base_uri": "https://localhost:8080/"
        },
        "id": "7FxAlfPElbUx",
        "outputId": "ab4d20b7-68fd-49bb-fca7-cd637a84ff14"
      },
      "execution_count": 9,
      "outputs": [
        {
          "output_type": "stream",
          "name": "stdout",
          "text": [
            "            value\n",
            "2024-01-01    1.0\n",
            "2024-01-02    1.0\n",
            "2024-01-03    3.0\n",
            "2024-01-04    3.0\n",
            "2024-01-05    5.0\n"
          ]
        },
        {
          "output_type": "stream",
          "name": "stderr",
          "text": [
            "<ipython-input-9-73dafc190d42>:4: FutureWarning: DataFrame.fillna with 'method' is deprecated and will raise in a future version. Use obj.ffill() or obj.bfill() instead.\n",
            "  df_filled = df.fillna(method='ffill')\n"
          ]
        }
      ]
    },
    {
      "cell_type": "markdown",
      "source": [
        "20 Q. What is the role of a pivot table in Pandas?\n"
      ],
      "metadata": {
        "id": "oZ1BLtcPlh8X"
      }
    },
    {
      "cell_type": "markdown",
      "source": [
        "In **Pandas**, a **pivot table** is a powerful tool used to summarize and aggregate data. It allows you to transform and reshape data, making it easier to analyze and visualize complex datasets. Pivot tables are useful when you need to group data by multiple categorical variables and calculate statistics like sums, averages, counts, etc., across different levels of those variables.\n",
        "\n",
        "### Key Roles of a Pivot Table in Pandas:\n",
        "\n",
        "1. **Summarization of Data**:\n",
        "   - Pivot tables allow you to group and aggregate data based on one or more categorical variables (e.g., rows and columns), making it easier to summarize large datasets. This is particularly useful for identifying patterns and trends in your data.\n",
        "\n",
        "2. **Aggregation**:\n",
        "   - You can apply aggregation functions like `sum()`, `mean()`, `count()`, `min()`, `max()`, etc., on a particular column to calculate statistics for each group. These aggregation functions provide insights into the distribution and trends of the data.\n",
        "\n",
        "3. **Data Reshaping**:\n",
        "   - Pivot tables enable reshaping of the data, converting long-format data (rows of values) into a wide-format (column-wise values). This transformation is helpful for making the data easier to read or for preparing it for analysis or visualization.\n",
        "\n",
        "4. **Handling Multidimensional Data**:\n",
        "   - Pivot tables can handle multiple levels of grouping. By specifying multiple columns for the rows and columns of the pivot table, you can analyze and summarize data across multiple dimensions.\n",
        "\n"
      ],
      "metadata": {
        "id": "_YZHB26ZmAGM"
      }
    },
    {
      "cell_type": "markdown",
      "source": [
        "21 Q. Why is NumPy’s array slicing faster than Python’s list slicing?\n"
      ],
      "metadata": {
        "id": "frVXRFq4mKes"
      }
    },
    {
      "cell_type": "markdown",
      "source": [
        "NumPy's array slicing is **faster** than Python's list slicing for several reasons, primarily due to the way NumPy is implemented and optimized. Here's why:\n",
        "\n",
        "### 1. **Contiguous Memory Allocation**:\n",
        "   - **NumPy arrays** are stored in **contiguous memory blocks**, meaning that all elements are stored in a continuous block of memory. This allows NumPy to perform slicing operations more efficiently by directly referencing the memory locations of the elements.\n",
        "   - In contrast, **Python lists** are arrays of **references** to objects stored in memory, rather than the objects themselves being stored contiguously. This means slicing a list requires more overhead to handle the internal references.\n",
        "\n",
        "### 2. **Low-Level Optimizations**:\n",
        "   - **NumPy** is written in **C**, a low-level language that allows for direct manipulation of memory and more efficient operations. NumPy operations, including slicing, are highly optimized and involve minimal overhead.\n",
        "   - **Python lists**, on the other hand, are implemented in **Python**, which is a higher-level language. Python list slicing involves more overhead due to the need to interpret and manage the list's references, leading to slower performance.\n",
        "\n",
        "### 3. **No Copying (Views in NumPy)**:\n",
        "   - When you slice a **NumPy array**, it **returns a view** of the original array, meaning no new memory is allocated for the sliced array. Instead, it simply creates a new reference to the original memory block. This makes slicing operations much faster as it doesn't require copying the data.\n",
        "   - For **Python lists**, slicing creates a **new list** with the sliced elements, which means that the data must be copied into a new memory location. This copying process adds overhead and slows down slicing operations.\n",
        "\n",
        "### 4. **Vectorized Operations**:\n",
        "   - **NumPy** is designed for efficient **vectorized operations** on entire arrays. This means that when you perform a slicing operation on a NumPy array, the slicing is part of a broader array operation that can take advantage of low-level optimizations like SIMD (Single Instruction, Multiple Data) instructions, which can process multiple elements simultaneously.\n",
        "   - **Python lists** do not support vectorized operations, so each element in the sliced list has to be processed individually, which takes more time.\n",
        "\n",
        "### 5. **Memory Efficiency**:\n",
        "   - **NumPy**'s memory layout is optimized for numerical data and scientific computing. It uses a fixed size for array elements (such as `int32`, `float64`, etc.), which allows for better packing of data in memory. This improves cache locality and enables faster memory access during slicing.\n",
        "   - **Python lists** are more general-purpose and can hold elements of varying types, leading to less efficient memory usage. Each element in a list is essentially a reference to an object, which is more memory-intensive and slower to access.\n",
        "\n"
      ],
      "metadata": {
        "id": "fzEXJl_dmeDJ"
      }
    },
    {
      "cell_type": "markdown",
      "source": [
        "22Q. What are some common use cases for Seaborn?\n"
      ],
      "metadata": {
        "id": "9Nuyu_4gmihg"
      }
    },
    {
      "cell_type": "markdown",
      "source": [
        "Seaborn is a powerful data visualization library built on top of Matplotlib that provides an interface for creating attractive and informative statistical graphics. Seaborn simplifies the creation of many types of visualizations, especially for complex datasets, and is particularly useful when working with statistical data. Below are some common use cases for Seaborn:"
      ],
      "metadata": {
        "id": "gq89jKuVmp-w"
      }
    },
    {
      "cell_type": "markdown",
      "source": [
        "1. Visualizing Relationships Between Variables\n",
        "\n",
        "Scatter plots: Seaborn makes it easy to create scatter plots, which are often used to visualize the relationship between two continuous variables. You can also add regression lines to understand the trend or fit.\n",
        "\n",
        "Use case: Exploring correlations between variables like height and weight, or income and expenditure."
      ],
      "metadata": {
        "id": "JEKRKdZ4m6NV"
      }
    },
    {
      "cell_type": "markdown",
      "source": [
        "2. Visualizing Distributions of Variables\n",
        "\n",
        "Histograms & KDEs (Kernel Density Estimates): Seaborn provides easy-to-use functions like distplot() (now displot() in Seaborn 0.11) to visualize the distribution of a single variable, allowing for a combination of histograms and KDE curves.\n",
        "\n",
        "Box plots: Box plots are commonly used to visualize the spread and skewness of a data distribution, showing the median, quartiles, and potential outliers.\n",
        "\n",
        "Use case: Understanding the distribution of continuous data like test scores, income levels, or sales data."
      ],
      "metadata": {
        "id": "9R415ZN1nA6l"
      }
    },
    {
      "cell_type": "markdown",
      "source": [
        "3. Categorical Data Visualization\n",
        "\n",
        "Bar plots, count plots, and box plots: Seaborn makes it easy to visualize categorical data, whether you want to show the count of observations per category or summarize the distribution of a continuous variable across categories.\n",
        "\n",
        "Use case: Comparing sales across different products, understanding customer demographics, or visualizing survey data."
      ],
      "metadata": {
        "id": "x5tuFV2fnKlW"
      }
    },
    {
      "cell_type": "markdown",
      "source": [
        "4. Visualizing Pairwise Relationships\n",
        "\n",
        "Pair plots: The pairplot() function in Seaborn is a convenient way to visualize pairwise relationships in a dataset. It generates scatter plots for all pairs of continuous variables, as well as histograms or KDEs along the diagonal to show univariate distributions.\n",
        "\n",
        "Use case: Exploring multivariate relationships in datasets with multiple continuous features, such as understanding the relationships between different financial metrics."
      ],
      "metadata": {
        "id": "ZOknG1G_nRxy"
      }
    },
    {
      "cell_type": "markdown",
      "source": [
        "5. Heatmaps for Correlation or Pivot Tables\n",
        "\n",
        "Heatmaps: Seaborn's heatmap() function is commonly used to visualize matrices such as correlation matrices or pivot tables. It shows the intensity of values in a color-coded grid, helping you identify patterns or correlations in the data.\n",
        "\n",
        "Use case: Visualizing the correlation between variables in a dataset, or plotting the results of a contingency table or confusion matrix."
      ],
      "metadata": {
        "id": "3hxC8zxgnX-w"
      }
    },
    {
      "cell_type": "markdown",
      "source": [
        "6. Time Series Visualization\n",
        "\n",
        "Line plots: Seaborn provides an easy way to plot time series data using lineplot(). This is particularly useful for understanding trends and patterns in data over time.\n",
        "\n",
        "Use case: Analyzing stock prices, monitoring website traffic, or forecasting sales data."
      ],
      "metadata": {
        "id": "as-5Z5vDneX5"
      }
    },
    {
      "cell_type": "markdown",
      "source": [
        "7. Facet Grids for Multi-Plot Layouts\n",
        "\n",
        "Facet grids: Seaborn’s FacetGrid allows you to create a matrix of subplots, making it easy to visualize how different subgroups of data behave across multiple variables. This is often used when working with grouped or segmented data.\n",
        "\n",
        "Use case: Comparing different categories or groups side by side, such as visualizing sales performance across different regions or time periods."
      ],
      "metadata": {
        "id": "p2GjMR5FN2vs"
      }
    },
    {
      "cell_type": "markdown",
      "source": [
        "8. Customizing Aesthetics of Visualizations\n",
        "\n",
        "Seaborn allows easy customization of plot aesthetics, including themes, color palettes, and other stylistic elements. This can be useful when creating visually appealing and informative plots for reports or publications.\n",
        "\n",
        "Use case: Improving the readability and aesthetics of charts for presentations or publication."
      ],
      "metadata": {
        "id": "AD_rGyKJN-_U"
      }
    },
    {
      "cell_type": "markdown",
      "source": [
        "9. Statistical Visualizations\n",
        "\n",
        "Regression plots: Seaborn includes built-in support for adding regression lines (e.g., linear regression) to scatter plots to help visualize relationships between variables.\n",
        "\n",
        "Use case: Understanding the linear or non-linear relationship between variables such as predicting house prices based on square footage."
      ],
      "metadata": {
        "id": "qjaLH87vOFb_"
      }
    },
    {
      "cell_type": "markdown",
      "source": [
        "10. Violin Plots for Distribution Comparison\n",
        "\n",
        "Violin plots: A combination of box plots and KDE plots, which visualize the distribution of a continuous variable across different categories. They are particularly useful for comparing distributions.\n",
        "\n",
        "Use case: Comparing the distribution of customer satisfaction scores across different service levels or products."
      ],
      "metadata": {
        "id": "b-TQIph5OKRB"
      }
    },
    {
      "cell_type": "markdown",
      "source": [
        "Practical"
      ],
      "metadata": {
        "id": "2QNgGZcJOR_H"
      }
    },
    {
      "cell_type": "markdown",
      "source": [
        "Q1. How do you create a 2D NumPy array and calculate the sum of each row?\n"
      ],
      "metadata": {
        "id": "3o8IBecMOTGt"
      }
    },
    {
      "cell_type": "markdown",
      "source": [
        "To create a 2D NumPy array and calculate the sum of each row, you can use NumPy's functions as follows:\n",
        "\n",
        "### Steps:\n",
        "1. **Create a 2D NumPy array**: You can create a 2D array using `numpy.array()` or `numpy.random()` to generate random numbers.\n",
        "2. **Calculate the sum of each row**: You can use the `numpy.sum()` function and specify the axis to perform the sum operation along the rows (i.e., axis=1).\n",
        "\n",
        "### Example:\n",
        "\n"
      ],
      "metadata": {
        "id": "yJ2uCJTHOjbA"
      }
    },
    {
      "cell_type": "code",
      "source": [
        "import numpy as np\n",
        "\n",
        "# Create a 2D NumPy array (e.g., 3x3 array)\n",
        "array = np.array([[1, 2, 3],\n",
        "                  [4, 5, 6],\n",
        "                  [7, 8, 9]])\n",
        "\n",
        "# Calculate the sum of each row (axis=1)\n",
        "row_sums = np.sum(array, axis=1)\n",
        "\n",
        "print(\"2D Array:\")\n",
        "print(array)\n",
        "\n",
        "print(\"\\nSum of each row:\")\n",
        "print(row_sums)\n"
      ],
      "metadata": {
        "colab": {
          "base_uri": "https://localhost:8080/"
        },
        "id": "g4L6ETaoOo4a",
        "outputId": "18d4aad7-5ac4-4a5a-d89d-708a493f8787"
      },
      "execution_count": 1,
      "outputs": [
        {
          "output_type": "stream",
          "name": "stdout",
          "text": [
            "2D Array:\n",
            "[[1 2 3]\n",
            " [4 5 6]\n",
            " [7 8 9]]\n",
            "\n",
            "Sum of each row:\n",
            "[ 6 15 24]\n"
          ]
        }
      ]
    },
    {
      "cell_type": "markdown",
      "source": [
        "Q 2.Write a Pandas script to find the mean of a specific column in a DataFrame?\n"
      ],
      "metadata": {
        "id": "AA4kBSEOOsuT"
      }
    },
    {
      "cell_type": "code",
      "source": [
        "import pandas as pd\n",
        "\n",
        "# Create a sample DataFrame\n",
        "data = {\n",
        "    'Name': ['Alice', 'Bob', 'Charlie', 'David', 'Eve'],\n",
        "    'Age': [23, 35, 45, 50, 30],\n",
        "    'Salary': [70000, 80000, 120000, 90000, 75000]\n",
        "}\n",
        "\n",
        "df = pd.DataFrame(data)\n",
        "\n",
        "# Calculate the mean of the 'Salary' column\n",
        "mean_salary = df['Salary'].mean()\n",
        "\n",
        "# Output the result\n",
        "print(f\"The mean salary is: {mean_salary}\")\n"
      ],
      "metadata": {
        "colab": {
          "base_uri": "https://localhost:8080/"
        },
        "id": "K3thElcJObTs",
        "outputId": "aa1befe5-ed33-48ac-dcd6-93d7a18864f0"
      },
      "execution_count": 2,
      "outputs": [
        {
          "output_type": "stream",
          "name": "stdout",
          "text": [
            "The mean salary is: 87000.0\n"
          ]
        }
      ]
    },
    {
      "cell_type": "markdown",
      "source": [
        "Q 3. Create a scatter plot using Matplotlib?\n"
      ],
      "metadata": {
        "id": "hfmhTkGwPAIG"
      }
    },
    {
      "cell_type": "code",
      "source": [
        "import matplotlib.pyplot as plt\n",
        "\n",
        "# Sample data for plotting\n",
        "x = [1, 2, 3, 4, 5]\n",
        "y = [5, 4, 3, 2, 1]\n",
        "\n",
        "# Create a scatter plot\n",
        "plt.scatter(x, y)\n",
        "\n",
        "# Add titles and labels\n",
        "plt.title('Sample Scatter Plot')\n",
        "plt.xlabel('X-axis')\n",
        "plt.ylabel('Y-axis')\n",
        "\n",
        "# Show the plot\n",
        "plt.show()\n"
      ],
      "metadata": {
        "colab": {
          "base_uri": "https://localhost:8080/",
          "height": 472
        },
        "id": "GuztC1fIPJzn",
        "outputId": "d390843e-b543-4a9e-ef01-4c9412ff8ca6"
      },
      "execution_count": 3,
      "outputs": [
        {
          "output_type": "display_data",
          "data": {
            "text/plain": [
              "<Figure size 640x480 with 1 Axes>"
            ],
            "image/png": "[encoded data removed]"
          },
          "metadata": {}
        }
      ]
    },
    {
      "cell_type": "markdown",
      "source": [
        "Customizing the Scatter Plot:\n",
        "\n",
        "You can customize the appearance of the scatter plot, such as the color, size, and shape of the points:"
      ],
      "metadata": {
        "id": "vxfFrfPLPMfR"
      }
    },
    {
      "cell_type": "code",
      "source": [
        "plt.scatter(x, y, color='red', s=100, marker='o')  # Red color, size 100, circular markers\n"
      ],
      "metadata": {
        "colab": {
          "base_uri": "https://localhost:8080/",
          "height": 447
        },
        "id": "ZbBZxLtfPZVJ",
        "outputId": "9cf5015d-d1ee-406f-9286-86f5bc399e44"
      },
      "execution_count": 4,
      "outputs": [
        {
          "output_type": "execute_result",
          "data": {
            "text/plain": [
              "<matplotlib.collections.PathCollection at 0x7ce0efa5e980>"
            ]
          },
          "metadata": {},
          "execution_count": 4
        },
        {
          "output_type": "display_data",
          "data": {
            "text/plain": [
              "<Figure size 640x480 with 1 Axes>"
            ],
            "image/png": "[encoded data removed]"
          },
          "metadata": {}
        }
      ]
    },
    {
      "cell_type": "markdown",
      "source": [
        "Q 4. How do you calculate the correlation matrix using Seaborn and visualize it with a heatmap?\n"
      ],
      "metadata": {
        "id": "cL86QMNqPeL0"
      }
    },
    {
      "cell_type": "markdown",
      "source": [
        "To calculate the correlation matrix using **Seaborn** and visualize it with a **heatmap**, you can follow these steps:\n",
        "\n",
        "1. **Calculate the Correlation Matrix**: You can use **Pandas** to calculate the correlation matrix of your DataFrame. The `corr()` method in Pandas calculates the correlation coefficients between numerical columns in the DataFrame.\n",
        "2. **Visualize with a Heatmap**: Once you have the correlation matrix, you can visualize it using Seaborn's `heatmap()` function, which provides a color-coded representation of the correlation values.\n",
        "\n",
        "### Example Script:\n",
        "\n"
      ],
      "metadata": {
        "id": "WMQCJUElPtN9"
      }
    },
    {
      "cell_type": "code",
      "source": [
        "import pandas as pd\n",
        "import seaborn as sns\n",
        "import matplotlib.pyplot as plt\n",
        "\n",
        "# Sample data\n",
        "data = {\n",
        "    'A': [1, 2, 3, 4, 5],\n",
        "    'B': [5, 4, 3, 2, 1],\n",
        "    'C': [2, 3, 4, 5, 6],\n",
        "    'D': [5, 3, 4, 2, 1]\n",
        "}\n",
        "\n",
        "# Create a DataFrame\n",
        "df = pd.DataFrame(data)\n",
        "\n",
        "# Calculate the correlation matrix\n",
        "corr_matrix = df.corr()\n",
        "\n",
        "# Create a heatmap of the correlation matrix\n",
        "plt.figure(figsize=(8, 6))  # Optional: Adjust the size of the heatmap\n",
        "sns.heatmap(corr_matrix, annot=True, cmap='coolwarm', fmt='.2f', linewidths=0.5)\n",
        "\n",
        "# Show the plot\n",
        "plt.title('Correlation Matrix Heatmap')\n",
        "plt.show()\n"
      ],
      "metadata": {
        "colab": {
          "base_uri": "https://localhost:8080/",
          "height": 545
        },
        "id": "az9Cjt9IPzkM",
        "outputId": "813a8533-f541-47ee-9659-53aba76965d5"
      },
      "execution_count": 5,
      "outputs": [
        {
          "output_type": "display_data",
          "data": {
            "text/plain": [
              "<Figure size 800x600 with 2 Axes>"
            ],
            "image/png": "[encoded data removed]"
          },
          "metadata": {}
        }
      ]
    },
    {
      "cell_type": "markdown",
      "source": [
        "Q5. Generate a bar plot using Plotly?\n"
      ],
      "metadata": {
        "id": "gScKgQjiP6oQ"
      }
    },
    {
      "cell_type": "code",
      "source": [
        "import plotly.express as px\n",
        "\n",
        "# Sample data for the bar plot\n",
        "data = {\n",
        "    'Category': ['A', 'B', 'C', 'D', 'E'],\n",
        "    'Value': [10, 15, 7, 12, 5]\n",
        "}\n",
        "\n",
        "# Create a DataFrame\n",
        "import pandas as pd\n",
        "df = pd.DataFrame(data)\n",
        "\n",
        "# Create a bar plot\n",
        "fig = px.bar(df, x='Category', y='Value', title=\"Sample Bar Plot\", labels={'Category': 'Category', 'Value': 'Value'})\n",
        "\n",
        "# Show the plot\n",
        "fig.show()\n"
      ],
      "metadata": {
        "colab": {
          "base_uri": "https://localhost:8080/",
          "height": 542
        },
        "id": "x5vrptPQQF9G",
        "outputId": "a10a9582-edc8-4278-cb5d-5277704310dd"
      },
      "execution_count": 6,
      "outputs": [
        {
          "output_type": "display_data",
          "data": {
            "text/html": [
              "<html>\n",
              "<head><meta charset=\"utf-8\" /></head>\n",
              "<body>\n",
              "    <div>            <script src=\"https://cdnjs.cloudflare.com/ajax/libs/mathjax/2.7.5/MathJax.js?config=TeX-AMS-MML_SVG\"></script><script type=\"text/javascript\">if (window.MathJax && window.MathJax.Hub && window.MathJax.Hub.Config) {window.MathJax.Hub.Config({SVG: {font: \"STIX-Web\"}});}</script>                <script type=\"text/javascript\">window.PlotlyConfig = {MathJaxConfig: 'local'};</script>\n",
              "        <script charset=\"utf-8\" src=\"https://cdn.plot.ly/plotly-2.35.2.min.js\"></script>                <div id=\"4c1271a8-037a-41c4-9cf0-f53e59c4bcbe\" class=\"plotly-graph-div\" style=\"height:525px; width:100%;\"></div>            <script type=\"text/javascript\">                                    window.PLOTLYENV=window.PLOTLYENV || {};                                    if (document.getElementById(\"4c1271a8-037a-41c4-9cf0-f53e59c4bcbe\")) {                    Plotly.newPlot(                        \"4c1271a8-037a-41c4-9cf0-f53e59c4bcbe\",                        [{\"alignmentgroup\":\"True\",\"hovertemplate\":\"Category=%{x}\\u003cbr\\u003eValue=%{y}\\u003cextra\\u003e\\u003c\\u002fextra\\u003e\",\"legendgroup\":\"\",\"marker\":{\"color\":\"#636efa\",\"pattern\":{\"shape\":\"\"}},\"name\":\"\",\"offsetgroup\":\"\",\"orientation\":\"v\",\"showlegend\":false,\"textposition\":\"auto\",\"x\":[\"A\",\"B\",\"C\",\"D\",\"E\"],\"xaxis\":\"x\",\"y\":[10,15,7,12,5],\"yaxis\":\"y\",\"type\":\"bar\"}],                        {\"template\":{\"data\":{\"histogram2dcontour\":[{\"type\":\"histogram2dcontour\",\"colorbar\":{\"outlinewidth\":0,\"ticks\":\"\"},\"colorscale\":[[0.0,\"#0d0887\"],[0.1111111111111111,\"#46039f\"],[0.2222222222222222,\"#7201a8\"],[0.3333333333333333,\"#9c179e\"],[0.4444444444444444,\"#bd3786\"],[0.5555555555555556,\"#d8576b\"],[0.6666666666666666,\"#ed7953\"],[0.7777777777777778,\"#fb9f3a\"],[0.8888888888888888,\"#fdca26\"],[1.0,\"#f0f921\"]]}],\"choropleth\":[{\"type\":\"choropleth\",\"colorbar\":{\"outlinewidth\":0,\"ticks\":\"\"}}],\"histogram2d\":[{\"type\":\"histogram2d\",\"colorbar\":{\"outlinewidth\":0,\"ticks\":\"\"},\"colorscale\":[[0.0,\"#0d0887\"],[0.1111111111111111,\"#46039f\"],[0.2222222222222222,\"#7201a8\"],[0.3333333333333333,\"#9c179e\"],[0.4444444444444444,\"#bd3786\"],[0.5555555555555556,\"#d8576b\"],[0.6666666666666666,\"#ed7953\"],[0.7777777777777778,\"#fb9f3a\"],[0.8888888888888888,\"#fdca26\"],[1.0,\"#f0f921\"]]}],\"heatmap\":[{\"type\":\"heatmap\",\"colorbar\":{\"outlinewidth\":0,\"ticks\":\"\"},\"colorscale\":[[0.0,\"#0d0887\"],[0.1111111111111111,\"#46039f\"],[0.2222222222222222,\"#7201a8\"],[0.3333333333333333,\"#9c179e\"],[0.4444444444444444,\"#bd3786\"],[0.5555555555555556,\"#d8576b\"],[0.6666666666666666,\"#ed7953\"],[0.7777777777777778,\"#fb9f3a\"],[0.8888888888888888,\"#fdca26\"],[1.0,\"#f0f921\"]]}],\"heatmapgl\":[{\"type\":\"heatmapgl\",\"colorbar\":{\"outlinewidth\":0,\"ticks\":\"\"},\"colorscale\":[[0.0,\"#0d0887\"],[0.1111111111111111,\"#46039f\"],[0.2222222222222222,\"#7201a8\"],[0.3333333333333333,\"#9c179e\"],[0.4444444444444444,\"#bd3786\"],[0.5555555555555556,\"#d8576b\"],[0.6666666666666666,\"#ed7953\"],[0.7777777777777778,\"#fb9f3a\"],[0.8888888888888888,\"#fdca26\"],[1.0,\"#f0f921\"]]}],\"contourcarpet\":[{\"type\":\"contourcarpet\",\"colorbar\":{\"outlinewidth\":0,\"ticks\":\"\"}}],\"contour\":[{\"type\":\"contour\",\"colorbar\":{\"outlinewidth\":0,\"ticks\":\"\"},\"colorscale\":[[0.0,\"#0d0887\"],[0.1111111111111111,\"#46039f\"],[0.2222222222222222,\"#7201a8\"],[0.3333333333333333,\"#9c179e\"],[0.4444444444444444,\"#bd3786\"],[0.5555555555555556,\"#d8576b\"],[0.6666666666666666,\"#ed7953\"],[0.7777777777777778,\"#fb9f3a\"],[0.8888888888888888,\"#fdca26\"],[1.0,\"#f0f921\"]]}],\"surface\":[{\"type\":\"surface\",\"colorbar\":{\"outlinewidth\":0,\"ticks\":\"\"},\"colorscale\":[[0.0,\"#0d0887\"],[0.1111111111111111,\"#46039f\"],[0.2222222222222222,\"#7201a8\"],[0.3333333333333333,\"#9c179e\"],[0.4444444444444444,\"#bd3786\"],[0.5555555555555556,\"#d8576b\"],[0.6666666666666666,\"#ed7953\"],[0.7777777777777778,\"#fb9f3a\"],[0.8888888888888888,\"#fdca26\"],[1.0,\"#f0f921\"]]}],\"mesh3d\":[{\"type\":\"mesh3d\",\"colorbar\":{\"outlinewidth\":0,\"ticks\":\"\"}}],\"scatter\":[{\"fillpattern\":{\"fillmode\":\"overlay\",\"size\":10,\"solidity\":0.2},\"type\":\"scatter\"}],\"parcoords\":[{\"type\":\"parcoords\",\"line\":{\"colorbar\":{\"outlinewidth\":0,\"ticks\":\"\"}}}],\"scatterpolargl\":[{\"type\":\"scatterpolargl\",\"marker\":{\"colorbar\":{\"outlinewidth\":0,\"ticks\":\"\"}}}],\"bar\":[{\"error_x\":{\"color\":\"#2a3f5f\"},\"error_y\":{\"color\":\"#2a3f5f\"},\"marker\":{\"line\":{\"color\":\"#E5ECF6\",\"width\":0.5},\"pattern\":{\"fillmode\":\"overlay\",\"size\":10,\"solidity\":0.2}},\"type\":\"bar\"}],\"scattergeo\":[{\"type\":\"scattergeo\",\"marker\":{\"colorbar\":{\"outlinewidth\":0,\"ticks\":\"\"}}}],\"scatterpolar\":[{\"type\":\"scatterpolar\",\"marker\":{\"colorbar\":{\"outlinewidth\":0,\"ticks\":\"\"}}}],\"histogram\":[{\"marker\":{\"pattern\":{\"fillmode\":\"overlay\",\"size\":10,\"solidity\":0.2}},\"type\":\"histogram\"}],\"scattergl\":[{\"type\":\"scattergl\",\"marker\":{\"colorbar\":{\"outlinewidth\":0,\"ticks\":\"\"}}}],\"scatter3d\":[{\"type\":\"scatter3d\",\"line\":{\"colorbar\":{\"outlinewidth\":0,\"ticks\":\"\"}},\"marker\":{\"colorbar\":{\"outlinewidth\":0,\"ticks\":\"\"}}}],\"scattermapbox\":[{\"type\":\"scattermapbox\",\"marker\":{\"colorbar\":{\"outlinewidth\":0,\"ticks\":\"\"}}}],\"scatterternary\":[{\"type\":\"scatterternary\",\"marker\":{\"colorbar\":{\"outlinewidth\":0,\"ticks\":\"\"}}}],\"scattercarpet\":[{\"type\":\"scattercarpet\",\"marker\":{\"colorbar\":{\"outlinewidth\":0,\"ticks\":\"\"}}}],\"carpet\":[{\"aaxis\":{\"endlinecolor\":\"#2a3f5f\",\"gridcolor\":\"white\",\"linecolor\":\"white\",\"minorgridcolor\":\"white\",\"startlinecolor\":\"#2a3f5f\"},\"baxis\":{\"endlinecolor\":\"#2a3f5f\",\"gridcolor\":\"white\",\"linecolor\":\"white\",\"minorgridcolor\":\"white\",\"startlinecolor\":\"#2a3f5f\"},\"type\":\"carpet\"}],\"table\":[{\"cells\":{\"fill\":{\"color\":\"#EBF0F8\"},\"line\":{\"color\":\"white\"}},\"header\":{\"fill\":{\"color\":\"#C8D4E3\"},\"line\":{\"color\":\"white\"}},\"type\":\"table\"}],\"barpolar\":[{\"marker\":{\"line\":{\"color\":\"#E5ECF6\",\"width\":0.5},\"pattern\":{\"fillmode\":\"overlay\",\"size\":10,\"solidity\":0.2}},\"type\":\"barpolar\"}],\"pie\":[{\"automargin\":true,\"type\":\"pie\"}]},\"layout\":{\"autotypenumbers\":\"strict\",\"colorway\":[\"#636efa\",\"#EF553B\",\"#00cc96\",\"#ab63fa\",\"#FFA15A\",\"#19d3f3\",\"#FF6692\",\"#B6E880\",\"#FF97FF\",\"#FECB52\"],\"font\":{\"color\":\"#2a3f5f\"},\"hovermode\":\"closest\",\"hoverlabel\":{\"align\":\"left\"},\"paper_bgcolor\":\"white\",\"plot_bgcolor\":\"#E5ECF6\",\"polar\":{\"bgcolor\":\"#E5ECF6\",\"angularaxis\":{\"gridcolor\":\"white\",\"linecolor\":\"white\",\"ticks\":\"\"},\"radialaxis\":{\"gridcolor\":\"white\",\"linecolor\":\"white\",\"ticks\":\"\"}},\"ternary\":{\"bgcolor\":\"#E5ECF6\",\"aaxis\":{\"gridcolor\":\"white\",\"linecolor\":\"white\",\"ticks\":\"\"},\"baxis\":{\"gridcolor\":\"white\",\"linecolor\":\"white\",\"ticks\":\"\"},\"caxis\":{\"gridcolor\":\"white\",\"linecolor\":\"white\",\"ticks\":\"\"}},\"coloraxis\":{\"colorbar\":{\"outlinewidth\":0,\"ticks\":\"\"}},\"colorscale\":{\"sequential\":[[0.0,\"#0d0887\"],[0.1111111111111111,\"#46039f\"],[0.2222222222222222,\"#7201a8\"],[0.3333333333333333,\"#9c179e\"],[0.4444444444444444,\"#bd3786\"],[0.5555555555555556,\"#d8576b\"],[0.6666666666666666,\"#ed7953\"],[0.7777777777777778,\"#fb9f3a\"],[0.8888888888888888,\"#fdca26\"],[1.0,\"#f0f921\"]],\"sequentialminus\":[[0.0,\"#0d0887\"],[0.1111111111111111,\"#46039f\"],[0.2222222222222222,\"#7201a8\"],[0.3333333333333333,\"#9c179e\"],[0.4444444444444444,\"#bd3786\"],[0.5555555555555556,\"#d8576b\"],[0.6666666666666666,\"#ed7953\"],[0.7777777777777778,\"#fb9f3a\"],[0.8888888888888888,\"#fdca26\"],[1.0,\"#f0f921\"]],\"diverging\":[[0,\"#8e0152\"],[0.1,\"#c51b7d\"],[0.2,\"#de77ae\"],[0.3,\"#f1b6da\"],[0.4,\"#fde0ef\"],[0.5,\"#f7f7f7\"],[0.6,\"#e6f5d0\"],[0.7,\"#b8e186\"],[0.8,\"#7fbc41\"],[0.9,\"#4d9221\"],[1,\"#276419\"]]},\"xaxis\":{\"gridcolor\":\"white\",\"linecolor\":\"white\",\"ticks\":\"\",\"title\":{\"standoff\":15},\"zerolinecolor\":\"white\",\"automargin\":true,\"zerolinewidth\":2},\"yaxis\":{\"gridcolor\":\"white\",\"linecolor\":\"white\",\"ticks\":\"\",\"title\":{\"standoff\":15},\"zerolinecolor\":\"white\",\"automargin\":true,\"zerolinewidth\":2},\"scene\":{\"xaxis\":{\"backgroundcolor\":\"#E5ECF6\",\"gridcolor\":\"white\",\"linecolor\":\"white\",\"showbackground\":true,\"ticks\":\"\",\"zerolinecolor\":\"white\",\"gridwidth\":2},\"yaxis\":{\"backgroundcolor\":\"#E5ECF6\",\"gridcolor\":\"white\",\"linecolor\":\"white\",\"showbackground\":true,\"ticks\":\"\",\"zerolinecolor\":\"white\",\"gridwidth\":2},\"zaxis\":{\"backgroundcolor\":\"#E5ECF6\",\"gridcolor\":\"white\",\"linecolor\":\"white\",\"showbackground\":true,\"ticks\":\"\",\"zerolinecolor\":\"white\",\"gridwidth\":2}},\"shapedefaults\":{\"line\":{\"color\":\"#2a3f5f\"}},\"annotationdefaults\":{\"arrowcolor\":\"#2a3f5f\",\"arrowhead\":0,\"arrowwidth\":1},\"geo\":{\"bgcolor\":\"white\",\"landcolor\":\"#E5ECF6\",\"subunitcolor\":\"white\",\"showland\":true,\"showlakes\":true,\"lakecolor\":\"white\"},\"title\":{\"x\":0.05},\"mapbox\":{\"style\":\"light\"}}},\"xaxis\":{\"anchor\":\"y\",\"domain\":[0.0,1.0],\"title\":{\"text\":\"Category\"}},\"yaxis\":{\"anchor\":\"x\",\"domain\":[0.0,1.0],\"title\":{\"text\":\"Value\"}},\"legend\":{\"tracegroupgap\":0},\"title\":{\"text\":\"Sample Bar Plot\"},\"barmode\":\"relative\"},                        {\"responsive\": true}                    ).then(function(){\n",
              "                            \n",
              "var gd = document.getElementById('4c1271a8-037a-41c4-9cf0-f53e59c4bcbe');\n",
              "var x = new MutationObserver(function (mutations, observer) {{\n",
              "        var display = window.getComputedStyle(gd).display;\n",
              "        if (!display || display === 'none') {{\n",
              "            console.log([gd, 'removed!']);\n",
              "            Plotly.purge(gd);\n",
              "            observer.disconnect();\n",
              "        }}\n",
              "}});\n",
              "\n",
              "// Listen for the removal of the full notebook cells\n",
              "var notebookContainer = gd.closest('#notebook-container');\n",
              "if (notebookContainer) {{\n",
              "    x.observe(notebookContainer, {childList: true});\n",
              "}}\n",
              "\n",
              "// Listen for the clearing of the current output cell\n",
              "var outputEl = gd.closest('.output');\n",
              "if (outputEl) {{\n",
              "    x.observe(outputEl, {childList: true});\n",
              "}}\n",
              "\n",
              "                        })                };                            </script>        </div>\n",
              "</body>\n",
              "</html>"
            ]
          },
          "metadata": {}
        }
      ]
    },
    {
      "cell_type": "markdown",
      "source": [
        "Q6. Create a DataFrame and add a new column based on an existing column?\n"
      ],
      "metadata": {
        "id": "a81a54rUQI1A"
      }
    },
    {
      "cell_type": "markdown",
      "source": [
        "To create a **Pandas DataFrame** and add a new column based on an existing column, you can follow these steps:\n",
        "\n",
        "1. **Create the DataFrame**: Use a dictionary or list of lists to create the DataFrame.\n",
        "2. **Add a new column**: Perform some operation on an existing column (e.g., multiplication, addition, or a more complex function) to create a new column.\n",
        "\n",
        "### Example Script:\n"
      ],
      "metadata": {
        "id": "08V1cfggQUdp"
      }
    },
    {
      "cell_type": "code",
      "source": [
        "import pandas as pd\n",
        "\n",
        "# Step 1: Create a DataFrame\n",
        "data = {\n",
        "    'Name': ['Alice', 'Bob', 'Charlie', 'David', 'Eve'],\n",
        "    'Age': [23, 35, 45, 50, 30],\n",
        "    'Salary': [70000, 80000, 120000, 90000, 75000]\n",
        "}\n",
        "\n",
        "df = pd.DataFrame(data)\n",
        "\n",
        "# Step 2: Add a new column based on the existing 'Salary' column (e.g., add a 10% bonus)\n",
        "df['Salary_with_bonus'] = df['Salary'] * 1.10\n",
        "\n",
        "# Display the DataFrame with the new column\n",
        "print(df)\n"
      ],
      "metadata": {
        "colab": {
          "base_uri": "https://localhost:8080/"
        },
        "id": "foQWLLb7QYmP",
        "outputId": "3f8cdc86-bf5c-4a12-facd-7cafa289d746"
      },
      "execution_count": 7,
      "outputs": [
        {
          "output_type": "stream",
          "name": "stdout",
          "text": [
            "      Name  Age  Salary  Salary_with_bonus\n",
            "0    Alice   23   70000            77000.0\n",
            "1      Bob   35   80000            88000.0\n",
            "2  Charlie   45  120000           132000.0\n",
            "3    David   50   90000            99000.0\n",
            "4      Eve   30   75000            82500.0\n"
          ]
        }
      ]
    },
    {
      "cell_type": "markdown",
      "source": [
        "\n",
        "### Customizing the New Column:\n",
        "You can perform any operation to create the new column. For example, you could:\n",
        "- Add, subtract, or multiply values.\n",
        "- Apply a function using `.apply()`.\n",
        "- Use conditions (`np.where()`) for more complex logic.\n",
        "\n",
        "### Example of Conditional Column:\n",
        "\n"
      ],
      "metadata": {
        "id": "WePB27gWQisi"
      }
    },
    {
      "cell_type": "code",
      "source": [
        "# Add a new column 'Salary_category' based on salary range\n",
        "df['Salary_category'] = df['Salary'].apply(lambda x: 'High' if x > 100000 else 'Low')\n",
        "\n",
        "print(df)\n"
      ],
      "metadata": {
        "colab": {
          "base_uri": "https://localhost:8080/"
        },
        "id": "LY70H-M7QqHE",
        "outputId": "3bb18022-b8df-4ae1-f400-dda4b3a1b1ea"
      },
      "execution_count": 8,
      "outputs": [
        {
          "output_type": "stream",
          "name": "stdout",
          "text": [
            "      Name  Age  Salary  Salary_with_bonus Salary_category\n",
            "0    Alice   23   70000            77000.0             Low\n",
            "1      Bob   35   80000            88000.0             Low\n",
            "2  Charlie   45  120000           132000.0            High\n",
            "3    David   50   90000            99000.0             Low\n",
            "4      Eve   30   75000            82500.0             Low\n"
          ]
        }
      ]
    },
    {
      "cell_type": "markdown",
      "source": [
        "Q7. Write a program to perform element-wise multiplication of two NumPy arrays?\n"
      ],
      "metadata": {
        "id": "3IrqLsFlQtXZ"
      }
    },
    {
      "cell_type": "code",
      "source": [
        "import numpy as np\n",
        "\n",
        "# Create two NumPy arrays\n",
        "array1 = np.array([1, 2, 3, 4])\n",
        "array2 = np.array([5, 6, 7, 8])\n",
        "\n",
        "# Perform element-wise multiplication\n",
        "result = array1 * array2  # or np.multiply(array1, array2)\n",
        "\n",
        "# Display the result\n",
        "print(\"Element-wise multiplication result:\", result)\n"
      ],
      "metadata": {
        "colab": {
          "base_uri": "https://localhost:8080/"
        },
        "id": "VfIw5kStQ4TF",
        "outputId": "fd9e4a7a-2320-4cb5-b8de-611b6e934cfa"
      },
      "execution_count": 9,
      "outputs": [
        {
          "output_type": "stream",
          "name": "stdout",
          "text": [
            "Element-wise multiplication result: [ 5 12 21 32]\n"
          ]
        }
      ]
    },
    {
      "cell_type": "markdown",
      "source": [
        "Q8. Create a line plot with multiple lines using Matplotlib?\n"
      ],
      "metadata": {
        "id": "-U0wFFikQ53f"
      }
    },
    {
      "cell_type": "code",
      "source": [
        "import matplotlib.pyplot as plt\n",
        "\n",
        "# Sample data\n",
        "x = [1, 2, 3, 4, 5]\n",
        "y1 = [1, 4, 9, 16, 25]  # Line 1 (y = x^2)\n",
        "y2 = [25, 20, 15, 10, 5]  # Line 2 (Decreasing values)\n",
        "y3 = [5, 10, 15, 20, 25]  # Line 3 (Increasing values)\n",
        "\n",
        "# Create a line plot with multiple lines\n",
        "plt.plot(x, y1, label='y = x^2', color='b', marker='o')  # Line 1\n",
        "plt.plot(x, y2, label='Decreasing', color='r', linestyle='--')  # Line 2\n",
        "plt.plot(x, y3, label='Increasing', color='g', linestyle='-.')  # Line 3\n",
        "\n",
        "# Adding title and labels\n",
        "plt.title('Line Plot with Multiple Lines')\n",
        "plt.xlabel('X-axis')\n",
        "plt.ylabel('Y-axis')\n",
        "\n",
        "# Displaying legend\n",
        "plt.legend()\n",
        "\n",
        "# Show the plot\n",
        "plt.show()\n"
      ],
      "metadata": {
        "colab": {
          "base_uri": "https://localhost:8080/",
          "height": 472
        },
        "id": "Sv5czPYwRCSU",
        "outputId": "65bf6d13-5b79-4207-9b79-e244e96a09e0"
      },
      "execution_count": 10,
      "outputs": [
        {
          "output_type": "display_data",
          "data": {
            "text/plain": [
              "<Figure size 640x480 with 1 Axes>"
            ],
            "image/png": "[encoded data removed]"
          },
          "metadata": {}
        }
      ]
    },
    {
      "cell_type": "markdown",
      "source": [
        "Q9. Generate a Pandas DataFrame and filter rows where a column value is greater than a threshold?\n"
      ],
      "metadata": {
        "id": "r9akj5YTRLod"
      }
    },
    {
      "cell_type": "code",
      "source": [
        "import pandas as pd\n",
        "\n",
        "# Step 1: Create a sample DataFrame\n",
        "data = {\n",
        "    'Name': ['Alice', 'Bob', 'Charlie', 'David', 'Eve'],\n",
        "    'Age': [23, 35, 45, 50, 30],\n",
        "    'Salary': [70000, 80000, 120000, 90000, 75000]\n",
        "}\n",
        "\n",
        "df = pd.DataFrame(data)\n",
        "\n",
        "# Step 2: Filter rows where 'Salary' is greater than 80,000\n",
        "threshold = 80000\n",
        "filtered_df = df[df['Salary'] > threshold]\n",
        "\n",
        "# Display the filtered DataFrame\n",
        "print(filtered_df)\n"
      ],
      "metadata": {
        "colab": {
          "base_uri": "https://localhost:8080/"
        },
        "id": "MYZslkavRaHT",
        "outputId": "98ff2abd-1a92-4192-e263-72c7cae55bb4"
      },
      "execution_count": 11,
      "outputs": [
        {
          "output_type": "stream",
          "name": "stdout",
          "text": [
            "      Name  Age  Salary\n",
            "2  Charlie   45  120000\n",
            "3    David   50   90000\n"
          ]
        }
      ]
    },
    {
      "cell_type": "markdown",
      "source": [
        "Q10. Create a histogram using Seaborn to visualize a distribution?\n"
      ],
      "metadata": {
        "id": "FYGNk82aRcAA"
      }
    },
    {
      "cell_type": "code",
      "source": [
        "import seaborn as sns\n",
        "import matplotlib.pyplot as plt\n",
        "\n",
        "# Sample data\n",
        "data = [23, 45, 56, 67, 45, 34, 23, 45, 34, 23, 56, 45, 67, 23, 34, 56, 67, 45, 56]\n",
        "\n",
        "# Create a Seaborn histogram\n",
        "sns.histplot(data, kde=True, color='skyblue', bins=10)\n",
        "\n",
        "# Add titles and labels\n",
        "plt.title('Histogram with Seaborn')\n",
        "plt.xlabel('Values')\n",
        "plt.ylabel('Frequency')\n",
        "\n",
        "# Show the plot\n",
        "plt.show()\n"
      ],
      "metadata": {
        "colab": {
          "base_uri": "https://localhost:8080/",
          "height": 472
        },
        "id": "so6R4fjKRr6x",
        "outputId": "580bd081-a796-42ab-f8dc-8ec3f9f833c6"
      },
      "execution_count": 12,
      "outputs": [
        {
          "output_type": "display_data",
          "data": {
            "text/plain": [
              "<Figure size 640x480 with 1 Axes>"
            ],
            "image/png": "[encoded data removed]"
          },
          "metadata": {}
        }
      ]
    },
    {
      "cell_type": "markdown",
      "source": [
        "Q 11. Perform matrix multiplication using NumPy?\n"
      ],
      "metadata": {
        "id": "3KbfLMgmRvTO"
      }
    },
    {
      "cell_type": "code",
      "source": [
        "import seaborn as sns\n",
        "import matplotlib.pyplot as plt\n",
        "\n",
        "# Sample data\n",
        "data = [23, 45, 56, 67, 45, 34, 23, 45, 34, 23, 56, 45, 67, 23, 34, 56, 67, 45, 56]\n",
        "\n",
        "# Create a Seaborn histogram\n",
        "sns.histplot(data, kde=True, color='skyblue', bins=10)\n",
        "\n",
        "# Add titles and labels\n",
        "plt.title('Histogram with Seaborn')\n",
        "plt.xlabel('Values')\n",
        "plt.ylabel('Frequency')\n",
        "\n",
        "# Show the plot\n",
        "plt.show()\n"
      ],
      "metadata": {
        "colab": {
          "base_uri": "https://localhost:8080/",
          "height": 472
        },
        "id": "OsblDkdgR4DX",
        "outputId": "bc4e742c-d8df-47da-dd5b-d4bf15b62f1d"
      },
      "execution_count": 13,
      "outputs": [
        {
          "output_type": "display_data",
          "data": {
            "text/plain": [
              "<Figure size 640x480 with 1 Axes>"
            ],
            "image/png": "[encoded data removed]"
          },
          "metadata": {}
        }
      ]
    },
    {
      "cell_type": "markdown",
      "source": [
        "Q 12. Use Pandas to load a CSV file and display its first 5 rows?\n"
      ],
      "metadata": {
        "id": "TrnNZrsOR7bV"
      }
    },
    {
      "cell_type": "code",
      "source": [
        "import pandas as pd\n",
        "\n",
        "\n",
        "data = {'Name': [\"Alice\",\"Bob\",\"Charlie\",\"David\",\"Eve\"],\n",
        "        'Age': [23,30,25,35,28],\n",
        "        'Salary': [50000,60000,55000,65000,52000]}\n",
        "df = pd.DataFrame(data)\n",
        "\n",
        "# Display the first 5 rows of the DataFrame\n",
        "print(df.head())\n",
        "\n"
      ],
      "metadata": {
        "colab": {
          "base_uri": "https://localhost:8080/"
        },
        "id": "fQELL4COTbB0",
        "outputId": "6c214080-2690-4513-db12-bfaff9a820ff"
      },
      "execution_count": 30,
      "outputs": [
        {
          "output_type": "stream",
          "name": "stdout",
          "text": [
            "      Name  Age  Salary\n",
            "0    Alice   23   50000\n",
            "1      Bob   30   60000\n",
            "2  Charlie   25   55000\n",
            "3    David   35   65000\n",
            "4      Eve   28   52000\n"
          ]
        }
      ]
    },
    {
      "cell_type": "markdown",
      "source": [
        "Q13. Create a 3D scatter plot using Plotly.\n"
      ],
      "metadata": {
        "id": "VepIp-b9WL20"
      }
    },
    {
      "cell_type": "code",
      "source": [
        "import plotly.graph_objects as go\n",
        "\n",
        "# Sample data for the 3D scatter plot\n",
        "x = [1, 2, 3, 4, 5]\n",
        "y = [10, 11, 12, 13, 14]\n",
        "z = [100, 200, 300, 400, 500]\n",
        "\n",
        "# Create a 3D scatter plot\n",
        "fig = go.Figure(data=[go.Scatter3d(\n",
        "    x=x,\n",
        "    y=y,\n",
        "    z=z,\n",
        "    mode='markers',  # You can also use 'lines' or 'markers+lines' for different effects\n",
        "    marker=dict(\n",
        "        size=8,  # Size of the points\n",
        "        color=z,  # Color the points based on z values\n",
        "        colorscale='Viridis',  # You can choose different color scales\n",
        "        opacity=0.8  # Set transparency\n",
        "    )\n",
        ")])\n",
        "\n",
        "# Set the layout for the plot\n",
        "fig.update_layout(\n",
        "    title='3D Scatter Plot',\n",
        "    scene=dict(\n",
        "        xaxis_title='X Axis',\n",
        "        yaxis_title='Y Axis',\n",
        "        zaxis_title='Z Axis'\n",
        "    )\n",
        ")\n",
        "\n",
        "# Show the plot\n",
        "fig.show()\n"
      ],
      "metadata": {
        "colab": {
          "base_uri": "https://localhost:8080/",
          "height": 542
        },
        "id": "jjdg7OsZWZ6Q",
        "outputId": "42b2456b-4cae-4b0b-f8f2-0396c4b16c82"
      },
      "execution_count": 31,
      "outputs": [
        {
          "output_type": "display_data",
          "data": {
            "text/html": [
              "<html>\n",
              "<head><meta charset=\"utf-8\" /></head>\n",
              "<body>\n",
              "    <div>            <script src=\"https://cdnjs.cloudflare.com/ajax/libs/mathjax/2.7.5/MathJax.js?config=TeX-AMS-MML_SVG\"></script><script type=\"text/javascript\">if (window.MathJax && window.MathJax.Hub && window.MathJax.Hub.Config) {window.MathJax.Hub.Config({SVG: {font: \"STIX-Web\"}});}</script>                <script type=\"text/javascript\">window.PlotlyConfig = {MathJaxConfig: 'local'};</script>\n",
              "        <script charset=\"utf-8\" src=\"https://cdn.plot.ly/plotly-2.35.2.min.js\"></script>                <div id=\"205ab49c-3add-4dc4-8cc1-06b2c6e6fcf9\" class=\"plotly-graph-div\" style=\"height:525px; width:100%;\"></div>            <script type=\"text/javascript\">                                    window.PLOTLYENV=window.PLOTLYENV || {};                                    if (document.getElementById(\"205ab49c-3add-4dc4-8cc1-06b2c6e6fcf9\")) {                    Plotly.newPlot(                        \"205ab49c-3add-4dc4-8cc1-06b2c6e6fcf9\",                        [{\"marker\":{\"color\":[100,200,300,400,500],\"colorscale\":[[0.0,\"#440154\"],[0.1111111111111111,\"#482878\"],[0.2222222222222222,\"#3e4989\"],[0.3333333333333333,\"#31688e\"],[0.4444444444444444,\"#26828e\"],[0.5555555555555556,\"#1f9e89\"],[0.6666666666666666,\"#35b779\"],[0.7777777777777778,\"#6ece58\"],[0.8888888888888888,\"#b5de2b\"],[1.0,\"#fde725\"]],\"opacity\":0.8,\"size\":8},\"mode\":\"markers\",\"x\":[1,2,3,4,5],\"y\":[10,11,12,13,14],\"z\":[100,200,300,400,500],\"type\":\"scatter3d\"}],                        {\"template\":{\"data\":{\"histogram2dcontour\":[{\"type\":\"histogram2dcontour\",\"colorbar\":{\"outlinewidth\":0,\"ticks\":\"\"},\"colorscale\":[[0.0,\"#0d0887\"],[0.1111111111111111,\"#46039f\"],[0.2222222222222222,\"#7201a8\"],[0.3333333333333333,\"#9c179e\"],[0.4444444444444444,\"#bd3786\"],[0.5555555555555556,\"#d8576b\"],[0.6666666666666666,\"#ed7953\"],[0.7777777777777778,\"#fb9f3a\"],[0.8888888888888888,\"#fdca26\"],[1.0,\"#f0f921\"]]}],\"choropleth\":[{\"type\":\"choropleth\",\"colorbar\":{\"outlinewidth\":0,\"ticks\":\"\"}}],\"histogram2d\":[{\"type\":\"histogram2d\",\"colorbar\":{\"outlinewidth\":0,\"ticks\":\"\"},\"colorscale\":[[0.0,\"#0d0887\"],[0.1111111111111111,\"#46039f\"],[0.2222222222222222,\"#7201a8\"],[0.3333333333333333,\"#9c179e\"],[0.4444444444444444,\"#bd3786\"],[0.5555555555555556,\"#d8576b\"],[0.6666666666666666,\"#ed7953\"],[0.7777777777777778,\"#fb9f3a\"],[0.8888888888888888,\"#fdca26\"],[1.0,\"#f0f921\"]]}],\"heatmap\":[{\"type\":\"heatmap\",\"colorbar\":{\"outlinewidth\":0,\"ticks\":\"\"},\"colorscale\":[[0.0,\"#0d0887\"],[0.1111111111111111,\"#46039f\"],[0.2222222222222222,\"#7201a8\"],[0.3333333333333333,\"#9c179e\"],[0.4444444444444444,\"#bd3786\"],[0.5555555555555556,\"#d8576b\"],[0.6666666666666666,\"#ed7953\"],[0.7777777777777778,\"#fb9f3a\"],[0.8888888888888888,\"#fdca26\"],[1.0,\"#f0f921\"]]}],\"heatmapgl\":[{\"type\":\"heatmapgl\",\"colorbar\":{\"outlinewidth\":0,\"ticks\":\"\"},\"colorscale\":[[0.0,\"#0d0887\"],[0.1111111111111111,\"#46039f\"],[0.2222222222222222,\"#7201a8\"],[0.3333333333333333,\"#9c179e\"],[0.4444444444444444,\"#bd3786\"],[0.5555555555555556,\"#d8576b\"],[0.6666666666666666,\"#ed7953\"],[0.7777777777777778,\"#fb9f3a\"],[0.8888888888888888,\"#fdca26\"],[1.0,\"#f0f921\"]]}],\"contourcarpet\":[{\"type\":\"contourcarpet\",\"colorbar\":{\"outlinewidth\":0,\"ticks\":\"\"}}],\"contour\":[{\"type\":\"contour\",\"colorbar\":{\"outlinewidth\":0,\"ticks\":\"\"},\"colorscale\":[[0.0,\"#0d0887\"],[0.1111111111111111,\"#46039f\"],[0.2222222222222222,\"#7201a8\"],[0.3333333333333333,\"#9c179e\"],[0.4444444444444444,\"#bd3786\"],[0.5555555555555556,\"#d8576b\"],[0.6666666666666666,\"#ed7953\"],[0.7777777777777778,\"#fb9f3a\"],[0.8888888888888888,\"#fdca26\"],[1.0,\"#f0f921\"]]}],\"surface\":[{\"type\":\"surface\",\"colorbar\":{\"outlinewidth\":0,\"ticks\":\"\"},\"colorscale\":[[0.0,\"#0d0887\"],[0.1111111111111111,\"#46039f\"],[0.2222222222222222,\"#7201a8\"],[0.3333333333333333,\"#9c179e\"],[0.4444444444444444,\"#bd3786\"],[0.5555555555555556,\"#d8576b\"],[0.6666666666666666,\"#ed7953\"],[0.7777777777777778,\"#fb9f3a\"],[0.8888888888888888,\"#fdca26\"],[1.0,\"#f0f921\"]]}],\"mesh3d\":[{\"type\":\"mesh3d\",\"colorbar\":{\"outlinewidth\":0,\"ticks\":\"\"}}],\"scatter\":[{\"fillpattern\":{\"fillmode\":\"overlay\",\"size\":10,\"solidity\":0.2},\"type\":\"scatter\"}],\"parcoords\":[{\"type\":\"parcoords\",\"line\":{\"colorbar\":{\"outlinewidth\":0,\"ticks\":\"\"}}}],\"scatterpolargl\":[{\"type\":\"scatterpolargl\",\"marker\":{\"colorbar\":{\"outlinewidth\":0,\"ticks\":\"\"}}}],\"bar\":[{\"error_x\":{\"color\":\"#2a3f5f\"},\"error_y\":{\"color\":\"#2a3f5f\"},\"marker\":{\"line\":{\"color\":\"#E5ECF6\",\"width\":0.5},\"pattern\":{\"fillmode\":\"overlay\",\"size\":10,\"solidity\":0.2}},\"type\":\"bar\"}],\"scattergeo\":[{\"type\":\"scattergeo\",\"marker\":{\"colorbar\":{\"outlinewidth\":0,\"ticks\":\"\"}}}],\"scatterpolar\":[{\"type\":\"scatterpolar\",\"marker\":{\"colorbar\":{\"outlinewidth\":0,\"ticks\":\"\"}}}],\"histogram\":[{\"marker\":{\"pattern\":{\"fillmode\":\"overlay\",\"size\":10,\"solidity\":0.2}},\"type\":\"histogram\"}],\"scattergl\":[{\"type\":\"scattergl\",\"marker\":{\"colorbar\":{\"outlinewidth\":0,\"ticks\":\"\"}}}],\"scatter3d\":[{\"type\":\"scatter3d\",\"line\":{\"colorbar\":{\"outlinewidth\":0,\"ticks\":\"\"}},\"marker\":{\"colorbar\":{\"outlinewidth\":0,\"ticks\":\"\"}}}],\"scattermapbox\":[{\"type\":\"scattermapbox\",\"marker\":{\"colorbar\":{\"outlinewidth\":0,\"ticks\":\"\"}}}],\"scatterternary\":[{\"type\":\"scatterternary\",\"marker\":{\"colorbar\":{\"outlinewidth\":0,\"ticks\":\"\"}}}],\"scattercarpet\":[{\"type\":\"scattercarpet\",\"marker\":{\"colorbar\":{\"outlinewidth\":0,\"ticks\":\"\"}}}],\"carpet\":[{\"aaxis\":{\"endlinecolor\":\"#2a3f5f\",\"gridcolor\":\"white\",\"linecolor\":\"white\",\"minorgridcolor\":\"white\",\"startlinecolor\":\"#2a3f5f\"},\"baxis\":{\"endlinecolor\":\"#2a3f5f\",\"gridcolor\":\"white\",\"linecolor\":\"white\",\"minorgridcolor\":\"white\",\"startlinecolor\":\"#2a3f5f\"},\"type\":\"carpet\"}],\"table\":[{\"cells\":{\"fill\":{\"color\":\"#EBF0F8\"},\"line\":{\"color\":\"white\"}},\"header\":{\"fill\":{\"color\":\"#C8D4E3\"},\"line\":{\"color\":\"white\"}},\"type\":\"table\"}],\"barpolar\":[{\"marker\":{\"line\":{\"color\":\"#E5ECF6\",\"width\":0.5},\"pattern\":{\"fillmode\":\"overlay\",\"size\":10,\"solidity\":0.2}},\"type\":\"barpolar\"}],\"pie\":[{\"automargin\":true,\"type\":\"pie\"}]},\"layout\":{\"autotypenumbers\":\"strict\",\"colorway\":[\"#636efa\",\"#EF553B\",\"#00cc96\",\"#ab63fa\",\"#FFA15A\",\"#19d3f3\",\"#FF6692\",\"#B6E880\",\"#FF97FF\",\"#FECB52\"],\"font\":{\"color\":\"#2a3f5f\"},\"hovermode\":\"closest\",\"hoverlabel\":{\"align\":\"left\"},\"paper_bgcolor\":\"white\",\"plot_bgcolor\":\"#E5ECF6\",\"polar\":{\"bgcolor\":\"#E5ECF6\",\"angularaxis\":{\"gridcolor\":\"white\",\"linecolor\":\"white\",\"ticks\":\"\"},\"radialaxis\":{\"gridcolor\":\"white\",\"linecolor\":\"white\",\"ticks\":\"\"}},\"ternary\":{\"bgcolor\":\"#E5ECF6\",\"aaxis\":{\"gridcolor\":\"white\",\"linecolor\":\"white\",\"ticks\":\"\"},\"baxis\":{\"gridcolor\":\"white\",\"linecolor\":\"white\",\"ticks\":\"\"},\"caxis\":{\"gridcolor\":\"white\",\"linecolor\":\"white\",\"ticks\":\"\"}},\"coloraxis\":{\"colorbar\":{\"outlinewidth\":0,\"ticks\":\"\"}},\"colorscale\":{\"sequential\":[[0.0,\"#0d0887\"],[0.1111111111111111,\"#46039f\"],[0.2222222222222222,\"#7201a8\"],[0.3333333333333333,\"#9c179e\"],[0.4444444444444444,\"#bd3786\"],[0.5555555555555556,\"#d8576b\"],[0.6666666666666666,\"#ed7953\"],[0.7777777777777778,\"#fb9f3a\"],[0.8888888888888888,\"#fdca26\"],[1.0,\"#f0f921\"]],\"sequentialminus\":[[0.0,\"#0d0887\"],[0.1111111111111111,\"#46039f\"],[0.2222222222222222,\"#7201a8\"],[0.3333333333333333,\"#9c179e\"],[0.4444444444444444,\"#bd3786\"],[0.5555555555555556,\"#d8576b\"],[0.6666666666666666,\"#ed7953\"],[0.7777777777777778,\"#fb9f3a\"],[0.8888888888888888,\"#fdca26\"],[1.0,\"#f0f921\"]],\"diverging\":[[0,\"#8e0152\"],[0.1,\"#c51b7d\"],[0.2,\"#de77ae\"],[0.3,\"#f1b6da\"],[0.4,\"#fde0ef\"],[0.5,\"#f7f7f7\"],[0.6,\"#e6f5d0\"],[0.7,\"#b8e186\"],[0.8,\"#7fbc41\"],[0.9,\"#4d9221\"],[1,\"#276419\"]]},\"xaxis\":{\"gridcolor\":\"white\",\"linecolor\":\"white\",\"ticks\":\"\",\"title\":{\"standoff\":15},\"zerolinecolor\":\"white\",\"automargin\":true,\"zerolinewidth\":2},\"yaxis\":{\"gridcolor\":\"white\",\"linecolor\":\"white\",\"ticks\":\"\",\"title\":{\"standoff\":15},\"zerolinecolor\":\"white\",\"automargin\":true,\"zerolinewidth\":2},\"scene\":{\"xaxis\":{\"backgroundcolor\":\"#E5ECF6\",\"gridcolor\":\"white\",\"linecolor\":\"white\",\"showbackground\":true,\"ticks\":\"\",\"zerolinecolor\":\"white\",\"gridwidth\":2},\"yaxis\":{\"backgroundcolor\":\"#E5ECF6\",\"gridcolor\":\"white\",\"linecolor\":\"white\",\"showbackground\":true,\"ticks\":\"\",\"zerolinecolor\":\"white\",\"gridwidth\":2},\"zaxis\":{\"backgroundcolor\":\"#E5ECF6\",\"gridcolor\":\"white\",\"linecolor\":\"white\",\"showbackground\":true,\"ticks\":\"\",\"zerolinecolor\":\"white\",\"gridwidth\":2}},\"shapedefaults\":{\"line\":{\"color\":\"#2a3f5f\"}},\"annotationdefaults\":{\"arrowcolor\":\"#2a3f5f\",\"arrowhead\":0,\"arrowwidth\":1},\"geo\":{\"bgcolor\":\"white\",\"landcolor\":\"#E5ECF6\",\"subunitcolor\":\"white\",\"showland\":true,\"showlakes\":true,\"lakecolor\":\"white\"},\"title\":{\"x\":0.05},\"mapbox\":{\"style\":\"light\"}}},\"title\":{\"text\":\"3D Scatter Plot\"},\"scene\":{\"xaxis\":{\"title\":{\"text\":\"X Axis\"}},\"yaxis\":{\"title\":{\"text\":\"Y Axis\"}},\"zaxis\":{\"title\":{\"text\":\"Z Axis\"}}}},                        {\"responsive\": true}                    ).then(function(){\n",
              "                            \n",
              "var gd = document.getElementById('205ab49c-3add-4dc4-8cc1-06b2c6e6fcf9');\n",
              "var x = new MutationObserver(function (mutations, observer) {{\n",
              "        var display = window.getComputedStyle(gd).display;\n",
              "        if (!display || display === 'none') {{\n",
              "            console.log([gd, 'removed!']);\n",
              "            Plotly.purge(gd);\n",
              "            observer.disconnect();\n",
              "        }}\n",
              "}});\n",
              "\n",
              "// Listen for the removal of the full notebook cells\n",
              "var notebookContainer = gd.closest('#notebook-container');\n",
              "if (notebookContainer) {{\n",
              "    x.observe(notebookContainer, {childList: true});\n",
              "}}\n",
              "\n",
              "// Listen for the clearing of the current output cell\n",
              "var outputEl = gd.closest('.output');\n",
              "if (outputEl) {{\n",
              "    x.observe(outputEl, {childList: true});\n",
              "}}\n",
              "\n",
              "                        })                };                            </script>        </div>\n",
              "</body>\n",
              "</html>"
            ]
          },
          "metadata": {}
        }
      ]
    }
  ]
}